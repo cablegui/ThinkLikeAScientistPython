{
 "cells": [
  {
   "cell_type": "code",
   "execution_count": 2,
   "metadata": {
    "collapsed": true
   },
   "outputs": [],
   "source": [
    "import sys\n",
    "\n",
    "def test(did_pass):\n",
    "    \"\"\"  Print the result of a test.  \"\"\"\n",
    "    linenum = sys._getframe(1).f_lineno   # Get the caller's line number.\n",
    "    if did_pass:\n",
    "        msg = \"Test at line {0} ok.\".format(linenum)\n",
    "    else:\n",
    "        msg = (\"Test at line {0} FAILED.\".format(linenum))\n",
    "    print(msg)\n",
    "    "
   ]
  },
  {
   "cell_type": "code",
   "execution_count": 3,
   "metadata": {
    "collapsed": false
   },
   "outputs": [
    {
     "name": "stdout",
     "output_type": "stream",
     "text": [
      "Test at line 12 ok.\n",
      "Test at line 13 ok.\n",
      "Test at line 14 ok.\n",
      "Test at line 15 ok.\n",
      "Test at line 16 ok.\n"
     ]
    }
   ],
   "source": [
    "def find(strng, ch, start=0, end=None):\n",
    "    ix = start\n",
    "    if end is None:\n",
    "       end = len(strng)\n",
    "    while ix < end:\n",
    "        if strng[ix] == ch:\n",
    "            return ix\n",
    "        ix += 1\n",
    "    return -1\n",
    "\n",
    "ss = \"Python strings have some interesting methods.\"\n",
    "test(find(ss, \"s\") == 7)\n",
    "test(find(ss, \"s\", 7) == 7)\n",
    "test(find(ss, \"s\", 8) == 13)\n",
    "test(find(ss, \"s\", 8, 13) == -1)\n",
    "test(find(ss, \".\") == len(ss)-1)"
   ]
  },
  {
   "cell_type": "code",
   "execution_count": 4,
   "metadata": {
    "collapsed": false
   },
   "outputs": [
    {
     "name": "stdout",
     "output_type": "stream",
     "text": [
      "Test at line 11 ok.\n",
      "Test at line 13 ok.\n"
     ]
    }
   ],
   "source": [
    "import string\n",
    "\n",
    "def remove_punctuation(s):\n",
    "    s_without_punct = \"\"\n",
    "    for letter in s:\n",
    "        if letter not in string.punctuation:\n",
    "            s_without_punct += letter\n",
    "    return s_without_punct\n",
    "\n",
    "test(remove_punctuation('\"Well, I never did!\", said Alice.') ==\n",
    "                            \"Well I never did said Alice\")\n",
    "test(remove_punctuation(\"Are you very, very, sure?\") ==\n",
    "                             \"Are you very very sure\")"
   ]
  },
  {
   "cell_type": "code",
   "execution_count": 20,
   "metadata": {
    "collapsed": false
   },
   "outputs": [
    {
     "name": "stdout",
     "output_type": "stream",
     "text": [
      "Pi to three decimal places is 3.141593\n",
      "80.00\n",
      "123456789 123456789 123456789 123456789 123456789 123456789\n",
      "|||Paris          |||    Whitney    |||         Hilton|||Born in 1981|||\n",
      "The decimal value 123456 converts to hex value 1e240\n"
     ]
    }
   ],
   "source": [
    "n1 = \"Paris\"\n",
    "n2 = \"Whitney\"\n",
    "n3 = \"Hilton\"\n",
    "\n",
    "print(\"Pi to three decimal places is {0:5f}\".format(3.1415926))\n",
    "print(\"{0:1.2f}\".format(4*20))\n",
    "print(\"123456789 123456789 123456789 123456789 123456789 123456789\")\n",
    "print(\"|||{0:<15}|||{1:^15}|||{2:>15}|||Born in {3}|||\"\n",
    "        .format(n1,n2,n3,1981))\n",
    "print(\"The decimal value {0} converts to hex value {0:x}\"\n",
    "        .format(123456))"
   ]
  },
  {
   "cell_type": "code",
   "execution_count": 21,
   "metadata": {
    "collapsed": false
   },
   "outputs": [
    {
     "name": "stdout",
     "output_type": "stream",
     "text": [
      "   i  i**2  i**3    i**5        i**10                   i**20\n",
      "   1     1     1       1            1                       1\n",
      "   2     4     8      32         1024                 1048576\n",
      "   3     9    27     243        59049              3486784401\n",
      "   4    16    64    1024      1048576           1099511627776\n",
      "   5    25   125    3125      9765625          95367431640625\n",
      "   6    36   216    7776     60466176        3656158440062976\n",
      "   7    49   343   16807    282475249       79792266297612001\n",
      "   8    64   512   32768   1073741824     1152921504606846976\n",
      "   9    81   729   59049   3486784401    12157665459056928801\n",
      "  10   100  1000  100000  10000000000   100000000000000000000\n"
     ]
    }
   ],
   "source": [
    "layout = \"{0:>4}{1:>6}{2:>6}{3:>8}{4:>13}{5:>24}\"\n",
    "\n",
    "print(layout.format(\"i\", \"i**2\", \"i**3\", \"i**5\", \"i**10\", \"i**20\"))\n",
    "for i in range(1, 11):\n",
    "    print(layout.format(i, i**2, i**3, i**5, i**10, i**20))"
   ]
  },
  {
   "cell_type": "markdown",
   "metadata": {},
   "source": [
    "#1.What is the result of each of the following:\n",
    "\n",
    "\n",
    "\n",
    "\n",
    ">>> \"Python\"[1]\n",
    ">>> \"Strings are sequences of characters.\"[5]\n",
    ">>> len(\"wonderful\")\n",
    ">>> \"Mystery\"[:4]\n",
    ">>> \"p\" in \"Pineapple\"\n",
    ">>> \"apple\" in \"Pineapple\"\n",
    ">>> \"pear\" not in \"Pineapple\"\n",
    ">>> \"apple\" > \"pineapple\"\n",
    ">>> \"pineapple\" < \"Peach\""
   ]
  },
  {
   "cell_type": "code",
   "execution_count": 23,
   "metadata": {
    "collapsed": false
   },
   "outputs": [
    {
     "data": {
      "text/plain": [
       "'y'"
      ]
     },
     "execution_count": 23,
     "metadata": {},
     "output_type": "execute_result"
    }
   ],
   "source": [
    "\"Python\"[1]\n"
   ]
  },
  {
   "cell_type": "code",
   "execution_count": 24,
   "metadata": {
    "collapsed": false
   },
   "outputs": [
    {
     "data": {
      "text/plain": [
       "'g'"
      ]
     },
     "execution_count": 24,
     "metadata": {},
     "output_type": "execute_result"
    }
   ],
   "source": [
    "\"Strings are sequences of characters.\"[5]\n"
   ]
  },
  {
   "cell_type": "code",
   "execution_count": 25,
   "metadata": {
    "collapsed": false
   },
   "outputs": [
    {
     "data": {
      "text/plain": [
       "9"
      ]
     },
     "execution_count": 25,
     "metadata": {},
     "output_type": "execute_result"
    }
   ],
   "source": [
    "len(\"wonderful\")\n"
   ]
  },
  {
   "cell_type": "code",
   "execution_count": 26,
   "metadata": {
    "collapsed": false
   },
   "outputs": [
    {
     "data": {
      "text/plain": [
       "'Myst'"
      ]
     },
     "execution_count": 26,
     "metadata": {},
     "output_type": "execute_result"
    }
   ],
   "source": [
    "\"Mystery\"[:4]\n"
   ]
  },
  {
   "cell_type": "code",
   "execution_count": 27,
   "metadata": {
    "collapsed": false
   },
   "outputs": [
    {
     "data": {
      "text/plain": [
       "True"
      ]
     },
     "execution_count": 27,
     "metadata": {},
     "output_type": "execute_result"
    }
   ],
   "source": [
    "\"p\" in \"Pineapple\"\n"
   ]
  },
  {
   "cell_type": "code",
   "execution_count": 28,
   "metadata": {
    "collapsed": false
   },
   "outputs": [
    {
     "data": {
      "text/plain": [
       "True"
      ]
     },
     "execution_count": 28,
     "metadata": {},
     "output_type": "execute_result"
    }
   ],
   "source": [
    "\"apple\" in \"Pineapple\"\n"
   ]
  },
  {
   "cell_type": "code",
   "execution_count": 29,
   "metadata": {
    "collapsed": false
   },
   "outputs": [
    {
     "data": {
      "text/plain": [
       "True"
      ]
     },
     "execution_count": 29,
     "metadata": {},
     "output_type": "execute_result"
    }
   ],
   "source": [
    "\"pear\" not in \"Pineapple\"\n"
   ]
  },
  {
   "cell_type": "code",
   "execution_count": 30,
   "metadata": {
    "collapsed": false
   },
   "outputs": [
    {
     "data": {
      "text/plain": [
       "False"
      ]
     },
     "execution_count": 30,
     "metadata": {},
     "output_type": "execute_result"
    }
   ],
   "source": [
    "\"apple\" > \"pineapple\"\n"
   ]
  },
  {
   "cell_type": "code",
   "execution_count": 31,
   "metadata": {
    "collapsed": false
   },
   "outputs": [
    {
     "data": {
      "text/plain": [
       "False"
      ]
     },
     "execution_count": 31,
     "metadata": {},
     "output_type": "execute_result"
    }
   ],
   "source": [
    "\"pineapple\" < \"Peach\""
   ]
  },
  {
   "cell_type": "markdown",
   "metadata": {},
   "source": [
    "#2.Modify:\n",
    "\n",
    "prefixes = \"JKLMNOPQ\"\n",
    "suffix = \"ack\"\n",
    "\n",
    "for letter in prefixes:\n",
    "    print(letter + suffix)\n",
    "\n",
    "so that Ouack and Quack are spelled correctly."
   ]
  },
  {
   "cell_type": "code",
   "execution_count": 33,
   "metadata": {
    "collapsed": false
   },
   "outputs": [
    {
     "name": "stdout",
     "output_type": "stream",
     "text": [
      "Jack\n",
      "Kack\n",
      "Lack\n",
      "Mack\n",
      "Nack\n",
      "Ouack\n",
      "Pack\n",
      "Quack\n"
     ]
    }
   ],
   "source": [
    "prefixes = \"JKLMNOPQ\"\n",
    "suffix = \"ack\"\n",
    "\n",
    "for letter in prefixes:\n",
    "    if letter == 'O' or letter == 'Q':\n",
    "        letter = letter + 'u'\n",
    "    print(letter + suffix)\n",
    "\n"
   ]
  },
  {
   "cell_type": "markdown",
   "metadata": {},
   "source": [
    "#3.Encapsulate\n",
    " \n",
    "fruit = \"banana\"\n",
    "count = 0\n",
    "for char in fruit:\n",
    "    if char == \"a\":\n",
    "        count += 1\n",
    "print(count)\n",
    "\n",
    "in a function named count_letters, and generalize it so that it accepts the string and the letter as arguments. Make the function return the number of characters, rather than print the answer. The caller should do the printing."
   ]
  },
  {
   "cell_type": "code",
   "execution_count": 36,
   "metadata": {
    "collapsed": false
   },
   "outputs": [
    {
     "name": "stdout",
     "output_type": "stream",
     "text": [
      "3\n"
     ]
    }
   ],
   "source": [
    "def count_letters(word, letter):\n",
    "    count = 0\n",
    "    for char in word:\n",
    "        if char == letter:\n",
    "            count += 1\n",
    "    return count\n",
    "\n",
    "print(count_letters(\"banana\",\"a\"))"
   ]
  },
  {
   "cell_type": "markdown",
   "metadata": {},
   "source": [
    "#4.Now rewrite the count_letters function so that instead of traversing the string, it repeatedly calls the find method, with the optional third parameter to locate new occurrences of the letter being counted."
   ]
  },
  {
   "cell_type": "code",
   "execution_count": 40,
   "metadata": {
    "collapsed": false
   },
   "outputs": [
    {
     "name": "stdout",
     "output_type": "stream",
     "text": [
      "3\n"
     ]
    }
   ],
   "source": [
    "def count_letters(word, letter):\n",
    "    counter = 0\n",
    "    for char in word:\n",
    "        if char.find(letter):\n",
    "            counter += 1\n",
    "    return counter\n",
    "\n",
    "            \n",
    "print(count_letters(\"banana\",\"a\"))"
   ]
  },
  {
   "cell_type": "markdown",
   "metadata": {},
   "source": [
    "#5.Assign to a variable in your program a triple-quoted string that contains your favourite paragraph of text — perhaps a poem, a speech, instructions to bake a cake, some inspirational verses, etc.\n",
    "\n",
    "Write a function which removes all punctuation from the string, breaks the string into a list of words, and counts the number of words in your text that contain the letter “e”. Your program should print an analysis of the text like this:\n",
    "\n",
    "\n",
    "Your text contains 243 words, of which 109 (44.8%) contain an \"e\".\n"
   ]
  },
  {
   "cell_type": "code",
   "execution_count": 55,
   "metadata": {
    "collapsed": false
   },
   "outputs": [
    {
     "name": "stdout",
     "output_type": "stream",
     "text": [
      "Your text contains 71 words, of which 27 (38.0%) contain an \"e\"\n"
     ]
    }
   ],
   "source": [
    "import string\n",
    "\n",
    "my_string = \"\"\"\n",
    "Counterparty credit risk covers the risk that a counterparty (person or institution) that \n",
    "for example has a loan with Deutsche Bank will default on the obligation to pay back the loan. \n",
    "Counterparty credit risk can be minimised by dealing with counterparties of a good credit rating. \n",
    "There is no specific flagging in the system that identifies if a \n",
    "trade is counterparty risk but flagging occurs for all other risk types instead.\n",
    "\"\"\"\n",
    "\n",
    "def remove_punctuation(s):\n",
    "    s_without_punct = \"\"\n",
    "    \n",
    "    for letter in s:\n",
    "        if letter not in string.punctuation:\n",
    "            s_without_punct += letter\n",
    "    \n",
    "    s_list = s_without_punct.split()\n",
    "    \n",
    "    counter = 0\n",
    "    \n",
    "    for word in s_list:\n",
    "        if word.find('e')>0:\n",
    "            counter += 1\n",
    "        \n",
    "    print('Your text contains {0} words, of which {1} ({2:.1f}%) contain an \"e\"'.format(len(s_list),counter, (counter/len(s_list))*100))\n",
    "\n",
    "\n",
    "remove_punctuation(my_string)"
   ]
  },
  {
   "cell_type": "markdown",
   "metadata": {},
   "source": [
    "#6.Print a neat looking multiplication table like this:\n",
    "\n",
    "        1   2   3   4   5   6   7   8   9  10  11  12\n",
    "  :--------------------------------------------------\n",
    " 1:     1   2   3   4   5   6   7   8   9  10  11  12\n",
    " 2:     2   4   6   8  10  12  14  16  18  20  22  24\n",
    " 3:     3   6   9  12  15  18  21  24  27  30  33  36\n",
    " 4:     4   8  12  16  20  24  28  32  36  40  44  48\n",
    " 5:     5  10  15  20  25  30  35  40  45  50  55  60\n",
    " 6:     6  12  18  24  30  36  42  48  54  60  66  72\n",
    " 7:     7  14  21  28  35  42  49  56  63  70  77  84\n",
    " 8:     8  16  24  32  40  48  56  64  72  80  88  96\n",
    " 9:     9  18  27  36  45  54  63  72  81  90  99 108\n",
    "10:    10  20  30  40  50  60  70  80  90 100 110 120\n",
    "11:    11  22  33  44  55  66  77  88  99 110 121 132\n",
    "12:    12  24  36  48  60  72  84  96 108 120 132 144\n"
   ]
  },
  {
   "cell_type": "code",
   "execution_count": 68,
   "metadata": {
    "collapsed": false
   },
   "outputs": [
    {
     "name": "stdout",
     "output_type": "stream",
     "text": [
      "        1   2   3   4   5   6   7   8   9  10  11  12\n",
      "   :--------------------------------------------------\n",
      " 1 :    1   2   3   4   5   6   7   8   9  10  11  12\n",
      " 2 :    2   4   6   8  10  12  14  16  18  20  22  24\n",
      " 3 :    3   6   9  12  15  18  21  24  27  30  33  36\n",
      " 4 :    4   8  12  16  20  24  28  32  36  40  44  48\n",
      " 5 :    5  10  15  20  25  30  35  40  45  50  55  60\n",
      " 6 :    6  12  18  24  30  36  42  48  54  60  66  72\n",
      " 7 :    7  14  21  28  35  42  49  56  63  70  77  84\n",
      " 8 :    8  16  24  32  40  48  56  64  72  80  88  96\n",
      " 9 :    9  18  27  36  45  54  63  72  81  90  99 108\n",
      "10 :   10  20  30  40  50  60  70  80  90 100 110 120\n",
      "11 :   11  22  33  44  55  66  77  88  99 110 121 132\n",
      "12 :   12  24  36  48  60  72  84  96 108 120 132 144\n"
     ]
    }
   ],
   "source": [
    "layout = \"{0:>9}{1:>4}{2:>4}{3:>4}{4:>4}{5:>4}{6:>4}{7:>4}{8:>4}{9:>4}{10:>4}{11:>4}\"\n",
    "\n",
    "print(layout.format(\"1\", \"2\", \"3\", \"4\", \"5\", \"6\", \"7\", \"8\", \"9\", \"10\", \"11\", \"12\"))\n",
    "print(\"   :--------------------------------------------------\")\n",
    "\n",
    "layout = \"{0:>4}{1:>4}{2:>4}{3:>4}{4:>4}{5:>4}{6:>4}{7:>4}{8:>4}{9:>4}{10:>4}{11:>4}\"\n",
    "for i in range(1, 13):\n",
    "    print('{0:>2}'.format(i),\":\",layout.format(i, i*2, i*3, i*4, i*5, i*6, i*7, i*8, i*9, i*10, i*11, i*12))"
   ]
  },
  {
   "cell_type": "markdown",
   "metadata": {},
   "source": [
    "#7.Write a function that reverses its string argument, and satisfies these tests:\n",
    " \n",
    "test(reverse(\"happy\") == \"yppah\")\n",
    "test(reverse(\"Python\") == \"nohtyP\")\n",
    "test(reverse(\"\") == \"\")\n",
    "test(reverse(\"a\") == \"a\")\n"
   ]
  },
  {
   "cell_type": "code",
   "execution_count": 74,
   "metadata": {
    "collapsed": false
   },
   "outputs": [
    {
     "name": "stdout",
     "output_type": "stream",
     "text": [
      "Test at line 7 ok.\n",
      "Test at line 8 ok.\n",
      "Test at line 9 ok.\n",
      "Test at line 10 ok.\n"
     ]
    }
   ],
   "source": [
    "def reverse(n):\n",
    "    temp_text = ''\n",
    "    for i in range(1,len(n)+1):\n",
    "        temp_text = temp_text + n[-i]\n",
    "    return temp_text\n",
    "\n",
    "test(reverse(\"happy\") == \"yppah\")\n",
    "test(reverse(\"Python\") == \"nohtyP\")\n",
    "test(reverse(\"\") == \"\")\n",
    "test(reverse(\"a\") == \"a\")"
   ]
  },
  {
   "cell_type": "markdown",
   "metadata": {},
   "source": [
    "#8.Write a function that mirrors its argument:\n",
    " \n",
    "test(mirror(\"good\") == \"gooddoog\")\n",
    "test(mirror(\"Python\") == \"PythonnohtyP\")\n",
    "test(mirror(\"\") == \"\")\n",
    "test(mirror(\"a\") == \"aa\")"
   ]
  },
  {
   "cell_type": "code",
   "execution_count": 76,
   "metadata": {
    "collapsed": false
   },
   "outputs": [
    {
     "name": "stdout",
     "output_type": "stream",
     "text": [
      "Test at line 5 ok.\n",
      "Test at line 6 ok.\n",
      "Test at line 7 ok.\n",
      "Test at line 8 ok.\n"
     ]
    }
   ],
   "source": [
    "def mirror(n):\n",
    "    temp_text = n + reverse(n)\n",
    "    return temp_text\n",
    "\n",
    "test(mirror(\"good\") == \"gooddoog\")\n",
    "test(mirror(\"Python\") == \"PythonnohtyP\")\n",
    "test(mirror(\"\") == \"\")\n",
    "test(mirror(\"a\") == \"aa\")"
   ]
  },
  {
   "cell_type": "markdown",
   "metadata": {},
   "source": [
    "#9.Write a function that removes all occurrences of a given letter from a string:\n",
    " \n",
    "test(remove_letter(\"a\", \"apple\") == \"pple\")\n",
    "test(remove_letter(\"a\", \"banana\") == \"bnn\")\n",
    "test(remove_letter(\"z\", \"banana\") == \"banana\")\n",
    "test(remove_letter(\"i\", \"Mississippi\") == \"Msssspp\")\n",
    "test(remove_letter(\"b\", \"\") = \"\")\n",
    "test(remove_letter(\"b\", \"c\") = \"c\")"
   ]
  },
  {
   "cell_type": "code",
   "execution_count": 77,
   "metadata": {
    "collapsed": false
   },
   "outputs": [
    {
     "data": {
      "text/plain": [
       "'pple'"
      ]
     },
     "execution_count": 77,
     "metadata": {},
     "output_type": "execute_result"
    }
   ],
   "source": [
    "def remove_letter(letter, word):\n",
    "    temp_text = ''\n",
    "    for i in word:\n",
    "        if letter not in i:\n",
    "            temp_text += i\n",
    "    return temp_text\n",
    "\n",
    "remove_letter('a', 'apple')"
   ]
  },
  {
   "cell_type": "code",
   "execution_count": 79,
   "metadata": {
    "collapsed": false
   },
   "outputs": [
    {
     "name": "stdout",
     "output_type": "stream",
     "text": [
      "Test at line 1 ok.\n",
      "Test at line 2 ok.\n",
      "Test at line 3 ok.\n",
      "Test at line 4 ok.\n",
      "Test at line 5 ok.\n",
      "Test at line 6 ok.\n"
     ]
    }
   ],
   "source": [
    "test(remove_letter(\"a\", \"apple\") == \"pple\")\n",
    "test(remove_letter(\"a\", \"banana\") == \"bnn\")\n",
    "test(remove_letter(\"z\", \"banana\") == \"banana\")\n",
    "test(remove_letter(\"i\", \"Mississippi\") == \"Msssspp\")\n",
    "test(remove_letter(\"b\", \"\") == \"\")\n",
    "test(remove_letter(\"b\", \"c\") == \"c\")"
   ]
  },
  {
   "cell_type": "markdown",
   "metadata": {},
   "source": [
    "#10.Write a function that recognizes palindromes. (Hint: use your reverse function to make this easy!):\n",
    " \n",
    "test(is_palindrome(\"abba\"))\n",
    "test(not is_palindrome(\"abab\"))\n",
    "test(is_palindrome(\"tenet\"))\n",
    "test(not is_palindrome(\"banana\"))\n",
    "test(is_palindrome(\"straw warts\"))\n",
    "test(is_palindrome(\"a\"))\n",
    "#test(is_palindrome(\"\"))    # Is an empty string a palindrome?"
   ]
  },
  {
   "cell_type": "code",
   "execution_count": 81,
   "metadata": {
    "collapsed": false
   },
   "outputs": [
    {
     "name": "stdout",
     "output_type": "stream",
     "text": [
      "Test at line 8 ok.\n",
      "Test at line 9 ok.\n",
      "Test at line 10 ok.\n",
      "Test at line 11 ok.\n",
      "Test at line 12 ok.\n",
      "Test at line 13 ok.\n",
      "Test at line 14 ok.\n"
     ]
    }
   ],
   "source": [
    "def is_palindrome(word):\n",
    "    if word == reverse(word):\n",
    "        return True\n",
    "    else:\n",
    "        return False\n",
    "    \n",
    "    \n",
    "test(is_palindrome(\"abba\"))\n",
    "test(not is_palindrome(\"abab\"))\n",
    "test(is_palindrome(\"tenet\"))\n",
    "test(not is_palindrome(\"banana\"))\n",
    "test(is_palindrome(\"straw warts\"))\n",
    "test(is_palindrome(\"a\"))\n",
    "test(is_palindrome(\"\"))    # Is an empty string a palindrome?"
   ]
  },
  {
   "cell_type": "markdown",
   "metadata": {},
   "source": [
    "#11.Write a function that counts how many times a substring occurs in a string:\n",
    " \n",
    "test(count(\"is\", \"Mississippi\") == 2)\n",
    "test(count(\"an\", \"banana\") == 2)\n",
    "test(count(\"ana\", \"banana\") == 2)\n",
    "test(count(\"nana\", \"banana\") == 1)\n",
    "test(count(\"nanan\", \"banana\") == 0)\n",
    "test(count(\"aaa\", \"aaaaaa\") == 4)"
   ]
  },
  {
   "cell_type": "code",
   "execution_count": 102,
   "metadata": {
    "collapsed": false
   },
   "outputs": [
    {
     "name": "stdout",
     "output_type": "stream",
     "text": [
      "Test at line 14 ok.\n",
      "Test at line 15 ok.\n",
      "Test at line 16 ok.\n",
      "Test at line 17 ok.\n",
      "Test at line 18 ok.\n",
      "Test at line 19 ok.\n"
     ]
    }
   ],
   "source": [
    "def count(sub,word):\n",
    "    counter = 0\n",
    "    i = 0\n",
    "    while True:\n",
    "        i = word.find(sub,i)\n",
    "        if i >= 0:\n",
    "            counter += 1\n",
    "            i = i+1\n",
    "        elif i == -1: # Condition when no sub string is found\n",
    "            break\n",
    "        \n",
    "    return counter\n",
    "\n",
    "test(count(\"is\", \"Mississippi\") == 2)\n",
    "test(count(\"an\", \"banana\") == 2)\n",
    "test(count(\"ana\", \"banana\") == 2)\n",
    "test(count(\"nana\", \"banana\") == 1)\n",
    "test(count(\"nanan\", \"banana\") == 0)\n",
    "test(count(\"aaa\", \"aaaaaa\") == 4)"
   ]
  },
  {
   "cell_type": "markdown",
   "metadata": {},
   "source": [
    "#12.Write a function that removes the first occurrence of a string from another string:\n",
    " \n",
    "test(remove(\"an\", \"banana\") == \"bana\")\n",
    "test(remove(\"cyc\", \"bicycle\") == \"bile\")\n",
    "test(remove(\"iss\", \"Mississippi\") == \"Missippi\")\n",
    "test(remove(\"eggs\", \"bicycle\") == \"bicycle\")"
   ]
  },
  {
   "cell_type": "code",
   "execution_count": 120,
   "metadata": {
    "collapsed": false
   },
   "outputs": [
    {
     "name": "stdout",
     "output_type": "stream",
     "text": [
      "Test at line 10 ok.\n",
      "Test at line 11 ok.\n",
      "Test at line 12 ok.\n",
      "Test at line 13 FAILED.\n"
     ]
    }
   ],
   "source": [
    "def remove(sub, word):\n",
    "    \n",
    "    \n",
    "    i = word.find(sub)\n",
    "    j = i + len(sub)\n",
    "    return word[0:i] + word[j:len(word)]\n",
    "    \n",
    "    \n",
    "    \n",
    "test(remove(\"an\", \"banana\") == \"bana\")\n",
    "test(remove(\"cyc\", \"bicycle\") == \"bile\")\n",
    "test(remove(\"iss\", \"Mississippi\") == \"Missippi\")\n",
    "test(remove(\"eggs\", \"bicycle\") == \"bicycle\")"
   ]
  },
  {
   "cell_type": "markdown",
   "metadata": {},
   "source": [
    "#13.Write a function that removes all occurrences of a string from another string:\n",
    " \n",
    "test(remove_all(\"an\", \"banana\") == \"ba\")\n",
    "test(remove_all(\"cyc\", \"bicycle\") == \"bile\")\n",
    "test(remove_all(\"iss\", \"Mississippi\") == \"Mippi\")\n",
    "test(remove_all(\"eggs\", \"bicycle\") == \"bicycle\")"
   ]
  },
  {
   "cell_type": "code",
   "execution_count": 124,
   "metadata": {
    "collapsed": false
   },
   "outputs": [
    {
     "name": "stdout",
     "output_type": "stream",
     "text": [
      "Test at line 11 ok.\n",
      "Test at line 12 ok.\n",
      "Test at line 13 ok.\n",
      "Test at line 14 ok.\n",
      "Test at line 15 ok.\n"
     ]
    }
   ],
   "source": [
    "def remove_all(sub, word):\n",
    "    while True:\n",
    "        i = word.find(sub)\n",
    "        j = i + len(sub)\n",
    "        if i >= 0:\n",
    "            word = word[0:i] + word[j:len(word)]            \n",
    "        elif i == -1: # Condition when no sub string is found\n",
    "            break\n",
    "    return word\n",
    "\n",
    "test(remove_all(\"an\", \"banana\") == \"ba\")\n",
    "test(remove_all(\"cyc\", \"bicycle\") == \"bile\")\n",
    "test(remove_all(\"iss\", \"Mississippi\") == \"Mippi\")\n",
    "test(remove_all(\"eggs\", \"bicycle\") == \"bicycle\")\n",
    "test(remove_all(\"ba\", \"banana\") == \"nana\")"
   ]
  },
  {
   "cell_type": "code",
   "execution_count": null,
   "metadata": {
    "collapsed": true
   },
   "outputs": [],
   "source": []
  }
 ],
 "metadata": {
  "kernelspec": {
   "display_name": "Python 3",
   "language": "python",
   "name": "python3"
  },
  "language_info": {
   "codemirror_mode": {
    "name": "ipython",
    "version": 3
   },
   "file_extension": ".py",
   "mimetype": "text/x-python",
   "name": "python",
   "nbconvert_exporter": "python",
   "pygments_lexer": "ipython3",
   "version": "3.5.2"
  }
 },
 "nbformat": 4,
 "nbformat_minor": 2
}

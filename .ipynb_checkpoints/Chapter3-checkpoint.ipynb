{
 "cells": [
  {
   "cell_type": "markdown",
   "metadata": {},
   "source": [
    "1. Write a program that prints We like Python’s turtles! 1000 times."
   ]
  },
  {
   "cell_type": "code",
   "execution_count": 2,
   "metadata": {
    "collapsed": false
   },
   "outputs": [
    {
     "name": "stdout",
     "output_type": "stream",
     "text": [
      "0 We like Python's turtles!\n",
      "1 We like Python's turtles!\n",
      "2 We like Python's turtles!\n",
      "3 We like Python's turtles!\n",
      "4 We like Python's turtles!\n",
      "5 We like Python's turtles!\n",
      "6 We like Python's turtles!\n",
      "7 We like Python's turtles!\n",
      "8 We like Python's turtles!\n",
      "9 We like Python's turtles!\n"
     ]
    }
   ],
   "source": [
    "for i in range(10):\n",
    "    print(i,\"We like Python's turtles!\")"
   ]
  },
  {
   "cell_type": "markdown",
   "metadata": {},
   "source": [
    "2. Give three attributes of your cellphone object. Give three methods of your cellphone."
   ]
  },
  {
   "cell_type": "code",
   "execution_count": null,
   "metadata": {
    "collapsed": true
   },
   "outputs": [],
   "source": [
    "#Attribute 1 : phone operating system: linux\n",
    "#Attribute 2 : Colour : black\n",
    "#Attribute 3 : make : Huawei\n",
    "\n",
    "#Method 1 : make call\n",
    "#Method 2 : ring\n",
    "#Method 3 : charge battery"
   ]
  },
  {
   "cell_type": "markdown",
   "metadata": {},
   "source": [
    "3. Write a program that uses a for loop to print\n",
    "One of the months of the year is January\n",
    "One of the months of the year is February"
   ]
  },
  {
   "cell_type": "code",
   "execution_count": 3,
   "metadata": {
    "collapsed": false
   },
   "outputs": [
    {
     "name": "stdout",
     "output_type": "stream",
     "text": [
      "One of the months of the year is  January\n",
      "One of the months of the year is  February\n",
      "One of the months of the year is  March\n",
      "One of the months of the year is  April\n",
      "One of the months of the year is  May\n",
      "One of the months of the year is  June\n",
      "One of the months of the year is  July\n",
      "One of the months of the year is  August\n",
      "One of the months of the year is  September\n",
      "One of the months of the year is  October\n",
      "One of the months of the year is  November\n",
      "One of the months of the year is  December\n"
     ]
    }
   ],
   "source": [
    "for i in ['January','February', 'March','April', \\\n",
    "          'May', 'June', 'July', 'August', \\\n",
    "          'September', 'October', 'November', 'December']:\n",
    "    print(\"One of the months of the year is \", i)\n",
    "    "
   ]
  },
  {
   "cell_type": "markdown",
   "metadata": {},
   "source": [
    "4. Suppose our turtle tess is at heading 0 — facing east. We execute the statement\n",
    "tess.left(3645). What does tess do, and what is her final heading?"
   ]
  },
  {
   "cell_type": "code",
   "execution_count": 4,
   "metadata": {
    "collapsed": false
   },
   "outputs": [
    {
     "data": {
      "text/plain": [
       "45"
      ]
     },
     "execution_count": 4,
     "metadata": {},
     "output_type": "execute_result"
    }
   ],
   "source": [
    "3645%360"
   ]
  },
  {
   "cell_type": "code",
   "execution_count": 15,
   "metadata": {
    "collapsed": false
   },
   "outputs": [
    {
     "ename": "Terminator",
     "evalue": "",
     "output_type": "error",
     "traceback": [
      "\u001b[0;31m---------------------------------------------------------------------------\u001b[0m",
      "\u001b[0;31mTerminator\u001b[0m                                Traceback (most recent call last)",
      "\u001b[0;32m<ipython-input-15-b9c0300c2877>\u001b[0m in \u001b[0;36m<module>\u001b[0;34m()\u001b[0m\n\u001b[1;32m      6\u001b[0m \u001b[0malex\u001b[0m\u001b[1;33m.\u001b[0m\u001b[0mleft\u001b[0m\u001b[1;33m(\u001b[0m\u001b[1;36m3645\u001b[0m\u001b[1;33m)\u001b[0m \u001b[1;31m# will be at 45 degrees in the top right quadrant\u001b[0m\u001b[1;33m\u001b[0m\u001b[0m\n\u001b[1;32m      7\u001b[0m \u001b[0mwn\u001b[0m\u001b[1;33m.\u001b[0m\u001b[0mmainloop\u001b[0m\u001b[1;33m(\u001b[0m\u001b[1;33m)\u001b[0m\u001b[1;33m\u001b[0m\u001b[0m\n\u001b[0;32m----> 8\u001b[0;31m \u001b[0mturtle\u001b[0m\u001b[1;33m.\u001b[0m\u001b[0mdone\u001b[0m\u001b[1;33m(\u001b[0m\u001b[1;33m)\u001b[0m\u001b[1;33m\u001b[0m\u001b[0m\n\u001b[0m",
      "\u001b[0;32mE:\\APPS\\Anaconda3\\lib\\turtle.py\u001b[0m in \u001b[0;36mmainloop\u001b[0;34m()\u001b[0m\n",
      "\u001b[0;31mTerminator\u001b[0m: "
     ]
    }
   ],
   "source": [
    "import turtle\n",
    "\n",
    "wn = turtle.Screen()\n",
    "alex = turtle.Turtle()\n",
    "\n",
    "alex.left(3645) # will be at 45 degrees in the top right quadrant\n",
    "wn.mainloop()\n",
    "turtle.done()"
   ]
  },
  {
   "cell_type": "markdown",
   "metadata": {},
   "source": [
    "5. Assume you have the assignment xs = [12, 10, 32, 3, 66, 17, 42, 99,\n",
    "20]\n",
    "(a) Write a loop that prints each of the numbers on a new line.\n",
    "(b) Write a loop that prints each number and its square on a new line.\n",
    "(c) Write a loop that adds all the numbers from the list into a variable called total. You\n",
    "should set the total variable to have the value 0 before you start adding them up,\n",
    "and print the value in total after the loop has completed.\n",
    "(d) Print the product of all the numbers in the list. (product means all multiplied together)"
   ]
  },
  {
   "cell_type": "code",
   "execution_count": 6,
   "metadata": {
    "collapsed": false
   },
   "outputs": [
    {
     "name": "stdout",
     "output_type": "stream",
     "text": [
      "12\n",
      "10\n",
      "32\n",
      "3\n",
      "66\n",
      "17\n",
      "42\n",
      "99\n",
      "20\n"
     ]
    }
   ],
   "source": [
    "# (a) Write a loop that prints each of the numbers on a new line.\n",
    "xs = [12, 10, 32, 3, 66, 17, 42, 99,20]\n",
    "for i in xs:\n",
    "    print(i,end=\"\\n\")"
   ]
  },
  {
   "cell_type": "code",
   "execution_count": 7,
   "metadata": {
    "collapsed": false
   },
   "outputs": [
    {
     "name": "stdout",
     "output_type": "stream",
     "text": [
      "12:144\n",
      "10:100\n",
      "32:1024\n",
      "3:9\n",
      "66:4356\n",
      "17:289\n",
      "42:1764\n",
      "99:9801\n",
      "20:400\n"
     ]
    }
   ],
   "source": [
    "# (b) Write a loop that prints each number and its square on a new line.\n",
    "for i in xs:\n",
    "    print(i,i**2,sep=\":\",end=\"\\n\")\n"
   ]
  },
  {
   "cell_type": "code",
   "execution_count": 9,
   "metadata": {
    "collapsed": false
   },
   "outputs": [
    {
     "name": "stdout",
     "output_type": "stream",
     "text": [
      "301\n"
     ]
    }
   ],
   "source": [
    "\"\"\"\n",
    "(c) Write a loop that adds all the numbers from the list into a variable called total. You\n",
    "should set the total variable to have the value 0 before you start adding them up,\n",
    "and print the value in total after the loop has completed.\n",
    "\"\"\"\n",
    "total = 0\n",
    "for i in xs:\n",
    "    total = total + i\n",
    "print(total)"
   ]
  },
  {
   "cell_type": "code",
   "execution_count": 10,
   "metadata": {
    "collapsed": false
   },
   "outputs": [
    {
     "name": "stdout",
     "output_type": "stream",
     "text": [
      "1074879590400\n"
     ]
    }
   ],
   "source": [
    "# (d) Print the product of all the numbers in the list. (product means all multiplied together)\n",
    "multiple = 1\n",
    "for i in xs:\n",
    "    multiple *= i \n",
    "print(multiple)"
   ]
  },
  {
   "cell_type": "code",
   "execution_count": 11,
   "metadata": {
    "collapsed": false
   },
   "outputs": [
    {
     "data": {
      "text/plain": [
       "1074879590400"
      ]
     },
     "execution_count": 11,
     "metadata": {},
     "output_type": "execute_result"
    }
   ],
   "source": [
    "12* 10* 32* 3* 66* 17* 42* 99*20"
   ]
  },
  {
   "cell_type": "markdown",
   "metadata": {},
   "source": [
    "6. Use for loops to make a turtle draw these regular polygons (regular means all sides the\n",
    "same lengths, all angles the same):\n",
    "• An equilateral triangle\n",
    "• A square\n",
    "• A hexagon (six sides)\n",
    "• An octagon (eight sides)"
   ]
  },
  {
   "cell_type": "code",
   "execution_count": null,
   "metadata": {
    "collapsed": true
   },
   "outputs": [],
   "source": [
    "## import turtle\n",
    "\n",
    "wn = turtle.Screen()\n",
    "alex = turtle.Turtle()\n",
    "\n",
    "# Lets set length as 100\n",
    "length = 100\n",
    "equi_times = 3\n",
    "equilateral_angle = 360/equi_times # An equilateral triangle has all angles equal (120 degrees)\n",
    "\n",
    "for i in range(equi_times):\n",
    "    alex.forward(length)\n",
    "    alex.left(equilateral_angle)\n",
    "\n",
    "wn.mainloop()\n",
    "turtle.done()"
   ]
  },
  {
   "cell_type": "code",
   "execution_count": 3,
   "metadata": {
    "collapsed": false
   },
   "outputs": [
    {
     "ename": "Terminator",
     "evalue": "",
     "output_type": "error",
     "traceback": [
      "\u001b[0;31m---------------------------------------------------------------------------\u001b[0m",
      "\u001b[0;31mTerminator\u001b[0m                                Traceback (most recent call last)",
      "\u001b[0;32m<ipython-input-3-97c3a3be189d>\u001b[0m in \u001b[0;36m<module>\u001b[0;34m()\u001b[0m\n\u001b[1;32m     16\u001b[0m \u001b[0mwn\u001b[0m\u001b[1;33m.\u001b[0m\u001b[0mmainloop\u001b[0m\u001b[1;33m(\u001b[0m\u001b[1;33m)\u001b[0m\u001b[1;33m\u001b[0m\u001b[0m\n\u001b[1;32m     17\u001b[0m \u001b[1;33m\u001b[0m\u001b[0m\n\u001b[0;32m---> 18\u001b[0;31m \u001b[0mturtle\u001b[0m\u001b[1;33m.\u001b[0m\u001b[0mdone\u001b[0m\u001b[1;33m(\u001b[0m\u001b[1;33m)\u001b[0m\u001b[1;33m\u001b[0m\u001b[0m\n\u001b[0m",
      "\u001b[0;32mE:\\APPS\\Anaconda3\\lib\\turtle.py\u001b[0m in \u001b[0;36mmainloop\u001b[0;34m()\u001b[0m\n",
      "\u001b[0;31mTerminator\u001b[0m: "
     ]
    }
   ],
   "source": [
    "import turtle\n",
    "\n",
    "wn = turtle.Screen()\n",
    "alex = turtle.Turtle()\n",
    "\n",
    "# Lets set length as 20\n",
    "length = 100\n",
    "\n",
    "square_times = 4\n",
    "square_angle = 360/square_times # A square has all angles = 90 degrees\n",
    "\n",
    "for i in range(square_times):\n",
    "    alex.forward(length)\n",
    "    alex.left(square_angle)\n",
    "\n",
    "wn.mainloop()\n",
    "turtle.done()"
   ]
  },
  {
   "cell_type": "code",
   "execution_count": 11,
   "metadata": {
    "collapsed": false
   },
   "outputs": [
    {
     "ename": "Terminator",
     "evalue": "",
     "output_type": "error",
     "traceback": [
      "\u001b[0;31m---------------------------------------------------------------------------\u001b[0m",
      "\u001b[0;31mTerminator\u001b[0m                                Traceback (most recent call last)",
      "\u001b[0;32m<ipython-input-11-c6e9b55dfe2b>\u001b[0m in \u001b[0;36m<module>\u001b[0;34m()\u001b[0m\n\u001b[1;32m     15\u001b[0m \u001b[1;33m\u001b[0m\u001b[0m\n\u001b[1;32m     16\u001b[0m \u001b[0mwn\u001b[0m\u001b[1;33m.\u001b[0m\u001b[0mmainloop\u001b[0m\u001b[1;33m(\u001b[0m\u001b[1;33m)\u001b[0m\u001b[1;33m\u001b[0m\u001b[0m\n\u001b[0;32m---> 17\u001b[0;31m \u001b[0mturtle\u001b[0m\u001b[1;33m.\u001b[0m\u001b[0mdone\u001b[0m\u001b[1;33m(\u001b[0m\u001b[1;33m)\u001b[0m\u001b[1;33m\u001b[0m\u001b[0m\n\u001b[0m",
      "\u001b[0;32mE:\\APPS\\Anaconda3\\lib\\turtle.py\u001b[0m in \u001b[0;36mmainloop\u001b[0;34m()\u001b[0m\n",
      "\u001b[0;31mTerminator\u001b[0m: "
     ]
    }
   ],
   "source": [
    "import turtle\n",
    "\n",
    "wn = turtle.Screen()\n",
    "alex = turtle.Turtle()\n",
    "\n",
    "# Lets set length as 100\n",
    "length = 100\n",
    "hexagon_times = 6\n",
    "hexagon_angle = 360/hexagon_times # A hexagon has 6 sides and angle = 60 degrees\n",
    "\n",
    "\n",
    "for i in range(hexagon_times):\n",
    "    alex.forward(length)\n",
    "    alex.left(hexagon_angle)\n",
    "\n",
    "wn.mainloop()\n",
    "turtle.done()"
   ]
  },
  {
   "cell_type": "code",
   "execution_count": 12,
   "metadata": {
    "collapsed": false
   },
   "outputs": [
    {
     "ename": "Terminator",
     "evalue": "",
     "output_type": "error",
     "traceback": [
      "\u001b[0;31m---------------------------------------------------------------------------\u001b[0m",
      "\u001b[0;31mTerminator\u001b[0m                                Traceback (most recent call last)",
      "\u001b[0;32m<ipython-input-12-c455654c4f87>\u001b[0m in \u001b[0;36m<module>\u001b[0;34m()\u001b[0m\n\u001b[1;32m     15\u001b[0m \u001b[1;33m\u001b[0m\u001b[0m\n\u001b[1;32m     16\u001b[0m \u001b[0mwn\u001b[0m\u001b[1;33m.\u001b[0m\u001b[0mmainloop\u001b[0m\u001b[1;33m(\u001b[0m\u001b[1;33m)\u001b[0m\u001b[1;33m\u001b[0m\u001b[0m\n\u001b[0;32m---> 17\u001b[0;31m \u001b[0mturtle\u001b[0m\u001b[1;33m.\u001b[0m\u001b[0mdone\u001b[0m\u001b[1;33m(\u001b[0m\u001b[1;33m)\u001b[0m\u001b[1;33m\u001b[0m\u001b[0m\n\u001b[0m",
      "\u001b[0;32mE:\\APPS\\Anaconda3\\lib\\turtle.py\u001b[0m in \u001b[0;36mmainloop\u001b[0;34m()\u001b[0m\n",
      "\u001b[0;31mTerminator\u001b[0m: "
     ]
    }
   ],
   "source": [
    "import turtle\n",
    "\n",
    "wn = turtle.Screen()\n",
    "alex = turtle.Turtle()\n",
    "\n",
    "# Lets set length as 100\n",
    "length = 100\n",
    "octagon_times = 8\n",
    "octagon_angle = 360/octagon_times # An octagon has 8 sides and angle = 45 degrees\n",
    "\n",
    "\n",
    "for i in range(octagon_times):\n",
    "    alex.forward(length)\n",
    "    alex.left(octagon_angle)\n",
    "\n",
    "wn.mainloop()\n",
    "turtle.done()"
   ]
  },
  {
   "cell_type": "markdown",
   "metadata": {},
   "source": [
    "7. A drunk pirate makes a random turn and then takes 100 steps forward, makes another random\n",
    "turn, takes another 100 steps, turns another random amount, etc. A social science\n",
    "student records the angle of each turn before the next 100 steps are taken. Her experimental\n",
    "data is [160, -43, 270, -97, -43, 200, -940, 17, -86]. (Positive\n",
    "angles are counter-clockwise.) Use a turtle to draw the path taken by our drunk friend."
   ]
  },
  {
   "cell_type": "code",
   "execution_count": 14,
   "metadata": {
    "collapsed": false
   },
   "outputs": [
    {
     "ename": "Terminator",
     "evalue": "",
     "output_type": "error",
     "traceback": [
      "\u001b[0;31m---------------------------------------------------------------------------\u001b[0m",
      "\u001b[0;31mTerminator\u001b[0m                                Traceback (most recent call last)",
      "\u001b[0;32m<ipython-input-14-fcc17e87c5d8>\u001b[0m in \u001b[0;36m<module>\u001b[0;34m()\u001b[0m\n\u001b[1;32m     13\u001b[0m \u001b[1;33m\u001b[0m\u001b[0m\n\u001b[1;32m     14\u001b[0m \u001b[0mwn\u001b[0m\u001b[1;33m.\u001b[0m\u001b[0mmainloop\u001b[0m\u001b[1;33m(\u001b[0m\u001b[1;33m)\u001b[0m\u001b[1;33m\u001b[0m\u001b[0m\n\u001b[0;32m---> 15\u001b[0;31m \u001b[0mturtle\u001b[0m\u001b[1;33m.\u001b[0m\u001b[0mdone\u001b[0m\u001b[1;33m(\u001b[0m\u001b[1;33m)\u001b[0m\u001b[1;33m\u001b[0m\u001b[0m\n\u001b[0m",
      "\u001b[0;32mE:\\APPS\\Anaconda3\\lib\\turtle.py\u001b[0m in \u001b[0;36mmainloop\u001b[0;34m()\u001b[0m\n",
      "\u001b[0;31mTerminator\u001b[0m: "
     ]
    }
   ],
   "source": [
    "import turtle\n",
    "\n",
    "wn = turtle.Screen()\n",
    "alex = turtle.Turtle()\n",
    "alex.shape(\"turtle\")\n",
    "\n",
    "# Lets set length as 100\n",
    "length = 100\n",
    "\n",
    "for i in [160, -43, 270, -97, -43, 200, -940, 17, -86]:\n",
    "    alex.forward(length)\n",
    "    alex.left(i)\n",
    "\n",
    "wn.mainloop()\n",
    "turtle.done()"
   ]
  },
  {
   "cell_type": "markdown",
   "metadata": {},
   "source": [
    "8. Enhance your program above to also tell us what the drunk pirate’s heading is after he\n",
    "has finished stumbling around. (Assume he begins at heading 0)."
   ]
  },
  {
   "cell_type": "code",
   "execution_count": null,
   "metadata": {
    "collapsed": true
   },
   "outputs": [],
   "source": [
    "# The pirate is facing west "
   ]
  },
  {
   "cell_type": "markdown",
   "metadata": {},
   "source": [
    "9. If you were going to draw a regular polygon with 18 sides, what angle would you need\n",
    "to turn the turtle at each corner?"
   ]
  },
  {
   "cell_type": "code",
   "execution_count": 19,
   "metadata": {
    "collapsed": false
   },
   "outputs": [
    {
     "ename": "Terminator",
     "evalue": "",
     "output_type": "error",
     "traceback": [
      "\u001b[0;31m---------------------------------------------------------------------------\u001b[0m",
      "\u001b[0;31mTerminator\u001b[0m                                Traceback (most recent call last)",
      "\u001b[0;32m<ipython-input-19-9d9f1cc21d80>\u001b[0m in \u001b[0;36m<module>\u001b[0;34m()\u001b[0m\n\u001b[1;32m     15\u001b[0m \u001b[1;33m\u001b[0m\u001b[0m\n\u001b[1;32m     16\u001b[0m \u001b[0mwn\u001b[0m\u001b[1;33m.\u001b[0m\u001b[0mmainloop\u001b[0m\u001b[1;33m(\u001b[0m\u001b[1;33m)\u001b[0m\u001b[1;33m\u001b[0m\u001b[0m\n\u001b[0;32m---> 17\u001b[0;31m \u001b[0mturtle\u001b[0m\u001b[1;33m.\u001b[0m\u001b[0mdone\u001b[0m\u001b[1;33m(\u001b[0m\u001b[1;33m)\u001b[0m\u001b[1;33m\u001b[0m\u001b[0m\n\u001b[0m",
      "\u001b[0;32mE:\\APPS\\Anaconda3\\lib\\turtle.py\u001b[0m in \u001b[0;36mmainloop\u001b[0;34m()\u001b[0m\n",
      "\u001b[0;31mTerminator\u001b[0m: "
     ]
    }
   ],
   "source": [
    "# You would need 360/18 angle\n",
    "import turtle\n",
    "\n",
    "wn = turtle.Screen()\n",
    "alex = turtle.Turtle()\n",
    "alex.shape(\"turtle\")\n",
    "\n",
    "# Lets set length as 50\n",
    "length = 50\n",
    "polygon_sides = 18\n",
    "polygon_angle = 360/polygon_sides\n",
    "\n",
    "for i in range(polygon_sides):\n",
    "    alex.forward(length)\n",
    "    alex.left(polygon_angle)\n",
    "\n",
    "wn.mainloop()\n",
    "turtle.done()"
   ]
  },
  {
   "cell_type": "markdown",
   "metadata": {},
   "source": [
    "10. At the interactive prompt, anticipate what each of the following lines will do, and then\n",
    "record what happens. Score yourself, giving yourself one point for each one you anticipate\n",
    "correctly:\n",
    ">>> import turtle\n",
    ">>> wn = turtle.Screen()\n",
    ">>> tess = turtle.Turtle()\n",
    ">>> tess.right(90)\n",
    ">>> tess.left(3600)\n",
    ">>> tess.right(-90)\n",
    ">>> tess.speed(10)\n",
    ">>> tess.left(3600)\n",
    ">>> tess.speed(0)\n",
    ">>> tess.left(3645)\n",
    ">>> tess.forward(-100)"
   ]
  },
  {
   "cell_type": "code",
   "execution_count": 21,
   "metadata": {
    "collapsed": false
   },
   "outputs": [
    {
     "ename": "Terminator",
     "evalue": "",
     "output_type": "error",
     "traceback": [
      "\u001b[0;31m---------------------------------------------------------------------------\u001b[0m",
      "\u001b[0;31mTerminator\u001b[0m                                Traceback (most recent call last)",
      "\u001b[0;32m<ipython-input-21-24ed3e2e0c50>\u001b[0m in \u001b[0;36m<module>\u001b[0;34m()\u001b[0m\n\u001b[1;32m     11\u001b[0m \u001b[0mtess\u001b[0m\u001b[1;33m.\u001b[0m\u001b[0mforward\u001b[0m\u001b[1;33m(\u001b[0m\u001b[1;33m-\u001b[0m\u001b[1;36m100\u001b[0m\u001b[1;33m)\u001b[0m\u001b[1;33m\u001b[0m\u001b[0m\n\u001b[1;32m     12\u001b[0m \u001b[0mwn\u001b[0m\u001b[1;33m.\u001b[0m\u001b[0mmainloop\u001b[0m\u001b[1;33m(\u001b[0m\u001b[1;33m)\u001b[0m\u001b[1;33m\u001b[0m\u001b[0m\n\u001b[0;32m---> 13\u001b[0;31m \u001b[0mturtle\u001b[0m\u001b[1;33m.\u001b[0m\u001b[0mdone\u001b[0m\u001b[1;33m(\u001b[0m\u001b[1;33m)\u001b[0m\u001b[1;33m\u001b[0m\u001b[0m\n\u001b[0m",
      "\u001b[0;32mE:\\APPS\\Anaconda3\\lib\\turtle.py\u001b[0m in \u001b[0;36mmainloop\u001b[0;34m()\u001b[0m\n",
      "\u001b[0;31mTerminator\u001b[0m: "
     ]
    }
   ],
   "source": [
    "import turtle\n",
    "wn = turtle.Screen()\n",
    "tess = turtle.Turtle()\n",
    "tess.right(90)\n",
    "tess.left(3600)\n",
    "tess.right(-90)\n",
    "tess.speed(10)\n",
    "tess.left(3600)\n",
    "tess.speed(0)\n",
    "tess.left(3645)\n",
    "tess.forward(-100)\n",
    "wn.mainloop()\n",
    "turtle.done()"
   ]
  },
  {
   "cell_type": "markdown",
   "metadata": {},
   "source": [
    "11. Write a program to draw a shape like this:\n",
    "Hints:\n",
    "• Try this on a piece of paper, moving and turning your cellphone as if it was a turtle.\n",
    "Watch how many complete rotations your cellphone makes before you complete the\n",
    "star. Since each full rotation is 360 degrees, you can figure out the total number of\n",
    "degrees that your phone was rotated through. If you divide that by 5, because there\n",
    "are five points to the star, you’ll know how many degrees to turn the turtle at each\n",
    "point.\n",
    "• You can hide a turtle behind its invisibility cloak if you don’t want it\n",
    "shown. It will still draw its lines if its pen is down. The method is invoked\n",
    "as tess.hideturtle() . To make the turtle visible again, use\n",
    "tess.showturtle()"
   ]
  },
  {
   "cell_type": "code",
   "execution_count": 28,
   "metadata": {
    "collapsed": false
   },
   "outputs": [
    {
     "ename": "Terminator",
     "evalue": "",
     "output_type": "error",
     "traceback": [
      "\u001b[0;31m---------------------------------------------------------------------------\u001b[0m",
      "\u001b[0;31mTerminator\u001b[0m                                Traceback (most recent call last)",
      "\u001b[0;32m<ipython-input-28-aab1d5c39577>\u001b[0m in \u001b[0;36m<module>\u001b[0;34m()\u001b[0m\n\u001b[1;32m     17\u001b[0m \u001b[1;33m\u001b[0m\u001b[0m\n\u001b[1;32m     18\u001b[0m \u001b[0mwn\u001b[0m\u001b[1;33m.\u001b[0m\u001b[0mmainloop\u001b[0m\u001b[1;33m(\u001b[0m\u001b[1;33m)\u001b[0m\u001b[1;33m\u001b[0m\u001b[0m\n\u001b[0;32m---> 19\u001b[0;31m \u001b[0mturtle\u001b[0m\u001b[1;33m.\u001b[0m\u001b[0mdone\u001b[0m\u001b[1;33m(\u001b[0m\u001b[1;33m)\u001b[0m\u001b[1;33m\u001b[0m\u001b[0m\n\u001b[0m",
      "\u001b[0;32mE:\\APPS\\Anaconda3\\lib\\turtle.py\u001b[0m in \u001b[0;36mmainloop\u001b[0;34m()\u001b[0m\n",
      "\u001b[0;31mTerminator\u001b[0m: "
     ]
    }
   ],
   "source": [
    "\n",
    "import turtle\n",
    "wn = turtle.Screen()\n",
    "tess = turtle.Turtle()\n",
    "\n",
    "length = 100\n",
    "star_sides = 5\n",
    "star_angle = 36\n",
    "\n",
    "tess.hideturtle()\n",
    "tess.left(75)\n",
    "\n",
    "for i in range(star_sides):\n",
    "    tess.forward(length)\n",
    "    tess.right(180 - star_angle)\n",
    "\n",
    "tess.showturtle()\n",
    "\n",
    "wn.mainloop()\n",
    "turtle.done()"
   ]
  },
  {
   "cell_type": "markdown",
   "metadata": {},
   "source": [
    "12. Write a program to draw a face of a clock that looks something like this:"
   ]
  },
  {
   "cell_type": "code",
   "execution_count": 43,
   "metadata": {
    "collapsed": false
   },
   "outputs": [
    {
     "ename": "Terminator",
     "evalue": "",
     "output_type": "error",
     "traceback": [
      "\u001b[0;31m---------------------------------------------------------------------------\u001b[0m",
      "\u001b[0;31mTerminator\u001b[0m                                Traceback (most recent call last)",
      "\u001b[0;32m<ipython-input-43-217116f2c4e8>\u001b[0m in \u001b[0;36m<module>\u001b[0;34m()\u001b[0m\n\u001b[1;32m     27\u001b[0m \u001b[1;33m\u001b[0m\u001b[0m\n\u001b[1;32m     28\u001b[0m \u001b[0mwn\u001b[0m\u001b[1;33m.\u001b[0m\u001b[0mmainloop\u001b[0m\u001b[1;33m(\u001b[0m\u001b[1;33m)\u001b[0m\u001b[1;33m\u001b[0m\u001b[0m\n\u001b[0;32m---> 29\u001b[0;31m \u001b[0mturtle\u001b[0m\u001b[1;33m.\u001b[0m\u001b[0mdone\u001b[0m\u001b[1;33m(\u001b[0m\u001b[1;33m)\u001b[0m\u001b[1;33m\u001b[0m\u001b[0m\n\u001b[0m",
      "\u001b[0;32mE:\\APPS\\Anaconda3\\lib\\turtle.py\u001b[0m in \u001b[0;36mmainloop\u001b[0;34m()\u001b[0m\n",
      "\u001b[0;31mTerminator\u001b[0m: "
     ]
    }
   ],
   "source": [
    "import turtle\n",
    "wn = turtle.Screen()\n",
    "tess = turtle.Turtle()\n",
    "\n",
    "tess.shape(\"turtle\")\n",
    "tess.penup()\n",
    "\n",
    "\n",
    "length = 100\n",
    "time_points = 12\n",
    "angle = 90\n",
    "\n",
    "for i in range(time_points):\n",
    "    tess.left(angle)\n",
    "    tess.forward(length)\n",
    "    tess.pendown()\n",
    "    tess.forward(10)\n",
    "    tess.penup()\n",
    "    tess.forward(10)\n",
    "    tess.stamp()\n",
    "    tess.backward(length+20)\n",
    "    tess.right(angle)\n",
    "    angle = angle - 30\n",
    "\n",
    "tess.left(90)\n",
    "tess.stamp()\n",
    "    \n",
    "wn.mainloop()\n",
    "turtle.done()"
   ]
  },
  {
   "cell_type": "markdown",
   "metadata": {},
   "source": [
    "13. Create a turtle, and assign it to a variable. When you ask for its type, what do you get?"
   ]
  },
  {
   "cell_type": "code",
   "execution_count": 44,
   "metadata": {
    "collapsed": false
   },
   "outputs": [
    {
     "data": {
      "text/plain": [
       "turtle.Turtle"
      ]
     },
     "execution_count": 44,
     "metadata": {},
     "output_type": "execute_result"
    }
   ],
   "source": [
    "type(tess)"
   ]
  },
  {
   "cell_type": "markdown",
   "metadata": {},
   "source": [
    "14. What is the collective noun for turtles? (Hint: they don’t come in herds.)"
   ]
  },
  {
   "cell_type": "code",
   "execution_count": null,
   "metadata": {
    "collapsed": true
   },
   "outputs": [],
   "source": [
    "# Bale, Nest, Turn, Dole"
   ]
  },
  {
   "cell_type": "markdown",
   "metadata": {},
   "source": [
    "15. What the collective noun for pythons? Is a python a viper? Is a python venomous?"
   ]
  },
  {
   "cell_type": "code",
   "execution_count": null,
   "metadata": {
    "collapsed": true
   },
   "outputs": [],
   "source": [
    "# Den, Nest, Pit, Bed, Knot. Vipers are venomous, python is not."
   ]
  }
 ],
 "metadata": {
  "kernelspec": {
   "display_name": "Python 3",
   "language": "python",
   "name": "python3"
  },
  "language_info": {
   "codemirror_mode": {
    "name": "ipython",
    "version": 3
   },
   "file_extension": ".py",
   "mimetype": "text/x-python",
   "name": "python",
   "nbconvert_exporter": "python",
   "pygments_lexer": "ipython3",
   "version": "3.5.2"
  }
 },
 "nbformat": 4,
 "nbformat_minor": 2
}

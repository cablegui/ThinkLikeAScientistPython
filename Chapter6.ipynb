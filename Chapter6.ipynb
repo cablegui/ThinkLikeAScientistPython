{
 "cells": [
  {
   "cell_type": "markdown",
   "metadata": {},
   "source": [
    "All of the exercises below should be added to a single file. In that file, you should also add the\n",
    "test and test_suite scaffolding functions shown above, and then, as you work through\n",
    "the exercises, add the new tests to your test suite. (If you open the online version of the textbook,\n",
    "you can easily copy and paste the tests and the fragments of code into your Python editor.)\n",
    "\n",
    "After completing each exercise, confirm that all the tests pass."
   ]
  },
  {
   "cell_type": "code",
   "execution_count": 4,
   "metadata": {
    "collapsed": false
   },
   "outputs": [
    {
     "name": "stdout",
     "output_type": "stream",
     "text": [
      "Test at line 20 ok.\n",
      "Test at line 21 ok.\n",
      "Test at line 22 ok.\n",
      "Test at line 23 ok.\n",
      "Test at line 24 ok.\n"
     ]
    }
   ],
   "source": [
    "def absolute_value(x):\n",
    "    if x < 0:\n",
    "        return -x\n",
    "    return x\n",
    "\n",
    "import sys\n",
    "\n",
    "def test(did_pass):\n",
    "    \"\"\"  Print the result of a test.  \"\"\"\n",
    "    linenum = sys._getframe(1).f_lineno   # Get the caller's line number.\n",
    "    if did_pass:\n",
    "        msg = \"Test at line {0} ok.\".format(linenum)\n",
    "    else:\n",
    "        msg = (\"Test at line {0} FAILED.\".format(linenum))\n",
    "    print(msg)\n",
    "\n",
    "def test_suite():\n",
    "    \"\"\" Run the suite of tests for code in this module (this file).\n",
    "    \"\"\"\n",
    "    test(absolute_value(17) == 17)\n",
    "    test(absolute_value(-17) == 17)\n",
    "    test(absolute_value(0) == 0)\n",
    "    test(absolute_value(3.14) == 3.14)\n",
    "    test(absolute_value(-3.14) == 3.14)\n",
    "\n",
    "test_suite()  \n",
    "\n",
    "\n",
    "\n",
    "\n"
   ]
  },
  {
   "cell_type": "markdown",
   "metadata": {},
   "source": [
    "#1. The four compass points can be abbreviated by single-letter strings as “N”, “E”, “S”, and\n",
    "“W”. Write a function turn_clockwise that takes one of these four compass points\n",
    "as its parameter, and returns the next compass point in the clockwise direction. Here are\n",
    "some tests that should pass:\n",
    "test(turn_clockwise(\"N\") == \"E\")\n",
    "test(turn_clockwise(\"W\") == \"N\")\n",
    "You might ask “What if the argument to the function is some other value?” For all other\n",
    "cases, the function should return the value None:\n",
    "test(turn_clockwise(42) == None)\n",
    "test(turn_clockwise(\"rubbish\") == None)"
   ]
  },
  {
   "cell_type": "code",
   "execution_count": 5,
   "metadata": {
    "collapsed": false
   },
   "outputs": [
    {
     "name": "stdout",
     "output_type": "stream",
     "text": [
      "Test at line 13 ok.\n",
      "Test at line 14 ok.\n",
      "Test at line 15 ok.\n",
      "Test at line 16 ok.\n"
     ]
    }
   ],
   "source": [
    "def turn_clockwise(direction):\n",
    "    if direction == \"N\":\n",
    "        return \"E\"\n",
    "    elif direction == \"E\":\n",
    "        return \"S\"\n",
    "    elif direction == \"S\":\n",
    "        return \"W\"\n",
    "    elif direction == \"W\":\n",
    "        return \"N\"\n",
    "    else:\n",
    "        return None\n",
    "\n",
    "test(turn_clockwise(\"N\") == \"E\")\n",
    "test(turn_clockwise(\"W\") == \"N\")\n",
    "test(turn_clockwise(42) == None)\n",
    "test(turn_clockwise(\"rubbish\") == None)"
   ]
  },
  {
   "cell_type": "markdown",
   "metadata": {},
   "source": [
    "#2. Write a function day_name that converts an integer number 0 to 6 into the name of a\n",
    "day. Assume day 0 is “Sunday”. Once again, return None if the arguments to the function\n",
    "are not valid. Here are some tests that should pass:\n",
    "test(day_name(3) == \"Wednesday\")\n",
    "test(day_name(6) == \"Saturday\")\n",
    "test(day_name(42) == None)"
   ]
  },
  {
   "cell_type": "code",
   "execution_count": 7,
   "metadata": {
    "collapsed": false
   },
   "outputs": [
    {
     "name": "stdout",
     "output_type": "stream",
     "text": [
      "Test at line 19 ok.\n",
      "Test at line 20 ok.\n",
      "Test at line 21 ok.\n"
     ]
    }
   ],
   "source": [
    "def day_name(num):\n",
    "    if num == 0:\n",
    "        return 'Sunday'\n",
    "    elif num == 1:\n",
    "        return 'Monday'\n",
    "    elif num == 2:\n",
    "        return 'Tuesday'\n",
    "    elif num == 3:\n",
    "        return 'Wednesday'\n",
    "    elif num == 4:\n",
    "        return 'Thursday'\n",
    "    elif num == 5:\n",
    "        return 'Friday'\n",
    "    elif num == 6:\n",
    "        return 'Saturday'\n",
    "    else:\n",
    "        return None\n",
    "\n",
    "test(day_name(3) == \"Wednesday\")\n",
    "test(day_name(6) == \"Saturday\")\n",
    "test(day_name(42) == None)"
   ]
  },
  {
   "cell_type": "markdown",
   "metadata": {},
   "source": [
    "#3. Write the inverse function day_num which is given a day name, and returns its number:\n",
    "test(day_num(\"Friday\") == 5)\n",
    "test(day_num(\"Sunday\") == 0)\n",
    "test(day_num(day_name(3)) == 3)\n",
    "test(day_name(day_num(\"Thursday\")) == \"Thursday\")\n",
    "Once again, if this function is given an invalid argument, it should return None:\n",
    "test(day_num(\"Halloween\") == None)"
   ]
  },
  {
   "cell_type": "code",
   "execution_count": 8,
   "metadata": {
    "collapsed": false
   },
   "outputs": [
    {
     "name": "stdout",
     "output_type": "stream",
     "text": [
      "Test at line 19 ok.\n",
      "Test at line 20 ok.\n",
      "Test at line 21 ok.\n",
      "Test at line 22 ok.\n",
      "Test at line 23 ok.\n"
     ]
    }
   ],
   "source": [
    "def day_num(day_name):\n",
    "    if day_name == 'Sunday':\n",
    "        return 0\n",
    "    elif day_name == 'Monday':\n",
    "        return 1\n",
    "    elif day_name == 'Tuesday':\n",
    "        return 2\n",
    "    elif day_name == 'Wednesday':\n",
    "        return 3\n",
    "    elif day_name == 'Thursday':\n",
    "        return 4\n",
    "    elif day_name == 'Friday':\n",
    "        return 5\n",
    "    elif day_name == 'Saturday':\n",
    "        return 6\n",
    "    else:\n",
    "        return None\n",
    "    \n",
    "test(day_num(\"Friday\") == 5)\n",
    "test(day_num(\"Sunday\") == 0)\n",
    "test(day_num(day_name(3)) == 3)\n",
    "test(day_name(day_num(\"Thursday\")) == \"Thursday\")\n",
    "test(day_num(\"Halloween\") == None)"
   ]
  },
  {
   "cell_type": "markdown",
   "metadata": {},
   "source": [
    "#4. Write a function that helps answer questions like “‘Today is Wednesday. I leave on\n",
    "holiday in 19 days time. What day will that be?”’ So the function must take a day name\n",
    "and a delta argument — the number of days to add — and should return the resulting\n",
    "day name:\n",
    "test(day_add(\"Monday\", 4) == \"Friday\")\n",
    "test(day_add(\"Tuesday\", 0) == \"Tuesday\")\n",
    "test(day_add(\"Tuesday\", 14) == \"Tuesday\")\n",
    "test(day_add(\"Sunday\", 100) == \"Tuesday\")\n",
    "Hint: use the first two functions written above to help you write this one."
   ]
  },
  {
   "cell_type": "code",
   "execution_count": 10,
   "metadata": {
    "collapsed": false
   },
   "outputs": [
    {
     "name": "stdout",
     "output_type": "stream",
     "text": [
      "Test at line 5 ok.\n",
      "Test at line 6 ok.\n",
      "Test at line 7 ok.\n",
      "Test at line 8 ok.\n"
     ]
    }
   ],
   "source": [
    "def day_add(day_nm, no_of_days):\n",
    "    \n",
    "    return day_name((day_num(day_nm) + no_of_days)%7)\n",
    "    \n",
    "test(day_add(\"Monday\", 4) == \"Friday\")\n",
    "test(day_add(\"Tuesday\", 0) == \"Tuesday\")\n",
    "test(day_add(\"Tuesday\", 14) == \"Tuesday\")\n",
    "test(day_add(\"Sunday\", 100) == \"Tuesday\")"
   ]
  },
  {
   "cell_type": "markdown",
   "metadata": {},
   "source": [
    "#5. Can your day_add function already work with negative deltas? For example, -1 would\n",
    "be yesterday, or -7 would be a week ago:\n",
    "test(day_add(\"Sunday\", -1) == \"Saturday\")\n",
    "test(day_add(\"Sunday\", -7) == \"Sunday\")\n",
    "test(day_add(\"Tuesday\", -100) == \"Sunday\")\n",
    "If your function already works, explain why. If it does not work, make it work.\n",
    "Hint: Play with some cases of using the modulus function % (introduced at the beginning\n",
    "of the previous chapter). Specifically, explore what happens to x % 7 when x is\n",
    "negative."
   ]
  },
  {
   "cell_type": "code",
   "execution_count": 11,
   "metadata": {
    "collapsed": false
   },
   "outputs": [
    {
     "name": "stdout",
     "output_type": "stream",
     "text": [
      "Test at line 1 ok.\n",
      "Test at line 2 ok.\n",
      "Test at line 3 ok.\n"
     ]
    }
   ],
   "source": [
    "test(day_add(\"Sunday\", -1) == \"Saturday\")\n",
    "test(day_add(\"Sunday\", -7) == \"Sunday\")\n",
    "test(day_add(\"Tuesday\", -100) == \"Sunday\")"
   ]
  },
  {
   "cell_type": "code",
   "execution_count": 18,
   "metadata": {
    "collapsed": false
   },
   "outputs": [
    {
     "data": {
      "text/plain": [
       "6"
      ]
     },
     "execution_count": 18,
     "metadata": {},
     "output_type": "execute_result"
    }
   ],
   "source": [
    "-1%7"
   ]
  },
  {
   "cell_type": "code",
   "execution_count": 19,
   "metadata": {
    "collapsed": false
   },
   "outputs": [
    {
     "data": {
      "text/plain": [
       "4"
      ]
     },
     "execution_count": 19,
     "metadata": {},
     "output_type": "execute_result"
    }
   ],
   "source": [
    "-100%8"
   ]
  },
  {
   "cell_type": "markdown",
   "metadata": {},
   "source": [
    "#6. Write a function days_in_month which takes the name of a month, and returns the\n",
    "number of days in the month. Ignore leap years:\n",
    "test(days_in_month(\"February\") == 28)\n",
    "test(days_in_month(\"December\") == 31)"
   ]
  },
  {
   "cell_type": "code",
   "execution_count": 20,
   "metadata": {
    "collapsed": false
   },
   "outputs": [
    {
     "name": "stdout",
     "output_type": "stream",
     "text": [
      "Test at line 30 ok.\n",
      "Test at line 31 ok.\n"
     ]
    }
   ],
   "source": [
    "def days_in_month(month_name):\n",
    "    if month_name == 'January':\n",
    "        return 31\n",
    "    elif month_name == 'February':\n",
    "        return 28\n",
    "    elif month_name == 'March':\n",
    "        return 31\n",
    "    elif month_name == 'April':\n",
    "        return 30\n",
    "    elif month_name == 'May':\n",
    "        return 31    \n",
    "    elif month_name == 'June':\n",
    "        return 30\n",
    "    elif month_name == 'July':\n",
    "        return 31\n",
    "    elif month_name == 'August':\n",
    "        return 31\n",
    "    elif month_name == 'September':\n",
    "        return 30\n",
    "    elif month_name == 'October':\n",
    "        return 31\n",
    "    elif month_name == 'November':\n",
    "        return 30\n",
    "    elif month_name == 'December':\n",
    "        return 31\n",
    "    else:\n",
    "        return None\n",
    "    \n",
    "    \n",
    "test(days_in_month(\"February\") == 28)\n",
    "test(days_in_month(\"December\") == 31)"
   ]
  },
  {
   "cell_type": "markdown",
   "metadata": {},
   "source": [
    "#7. Write a function to_secs that converts hours, minutes and seconds to a total number\n",
    "of seconds. Here are some tests that should pass:\n",
    "test(to_secs(2, 30, 10) == 9010)\n",
    "test(to_secs(2, 0, 0) == 7200)\n",
    "test(to_secs(0, 2, 0) == 120)\n",
    "test(to_secs(0, 0, 42) == 42)\n",
    "test(to_secs(0, -10, 10) == -590)"
   ]
  },
  {
   "cell_type": "code",
   "execution_count": 21,
   "metadata": {
    "collapsed": false
   },
   "outputs": [
    {
     "name": "stdout",
     "output_type": "stream",
     "text": [
      "Test at line 4 ok.\n",
      "Test at line 5 ok.\n",
      "Test at line 6 ok.\n",
      "Test at line 7 ok.\n",
      "Test at line 8 ok.\n"
     ]
    }
   ],
   "source": [
    "def to_secs(hours, minutes, seconds):\n",
    "    return (hours * 60 * 60) + (minutes * 60) + seconds\n",
    "\n",
    "test(to_secs(2, 30, 10) == 9010)\n",
    "test(to_secs(2, 0, 0) == 7200)\n",
    "test(to_secs(0, 2, 0) == 120)\n",
    "test(to_secs(0, 0, 42) == 42)\n",
    "test(to_secs(0, -10, 10) == -590)"
   ]
  },
  {
   "cell_type": "markdown",
   "metadata": {},
   "source": [
    "#8. Extend to_secs so that it can cope with real values as inputs. It should always return\n",
    "an integer number of seconds (truncated towards zero):\n",
    "test(to_secs(2.5, 0, 10.71) == 9010)\n",
    "test(to_secs(2.433,0,0) == 8758)"
   ]
  },
  {
   "cell_type": "code",
   "execution_count": 33,
   "metadata": {
    "collapsed": false
   },
   "outputs": [
    {
     "name": "stdout",
     "output_type": "stream",
     "text": [
      "Test at line 4 ok.\n",
      "Test at line 5 ok.\n"
     ]
    }
   ],
   "source": [
    "def to_secs(hours, minutes, seconds):\n",
    "    return int((hours * 60 * 60)) + int((minutes * 60)) + int(seconds)\n",
    "\n",
    "test(to_secs(2.5, 0, 10.71) == 9010)\n",
    "test(to_secs(2.433,0,0) == 8758)"
   ]
  },
  {
   "cell_type": "markdown",
   "metadata": {},
   "source": [
    "#9. Write three functions that are the “inverses” of to_secs:\n",
    "(a) hours_in returns the whole integer number of hours represented by a total number\n",
    "of seconds.\n",
    "(b) minutes_in returns the whole integer number of left over minutes in a total\n",
    "number of seconds, once the hours have been taken out.\n",
    "(c) seconds_in returns the left over seconds represented by a total number of seconds.\n",
    "You may assume that the total number of seconds passed to these functions is an integer.\n",
    "Here are some test cases:\n",
    "test(hours_in(9010) == 2)\n",
    "test(minutes_in(9010) == 30)\n",
    "test(seconds_in(9010) == 10)"
   ]
  },
  {
   "cell_type": "code",
   "execution_count": 47,
   "metadata": {
    "collapsed": false
   },
   "outputs": [
    {
     "name": "stdout",
     "output_type": "stream",
     "text": [
      "Test at line 10 ok.\n",
      "Test at line 11 ok.\n",
      "Test at line 12 ok.\n"
     ]
    }
   ],
   "source": [
    "def hours_in(in_seconds):\n",
    "    return int(in_seconds/(3600))\n",
    "\n",
    "def minutes_in(in_seconds):\n",
    "    return int((in_seconds - (hours_in(in_seconds))*3600)/60)\n",
    "\n",
    "def seconds_in(in_seconds):\n",
    "    return int(in_seconds - minutes_in(in_seconds)*60 - hours_in(in_seconds)*3600)\n",
    "\n",
    "test(hours_in(9010) == 2)\n",
    "test(minutes_in(9010) == 30)\n",
    "test(seconds_in(9010) == 10)"
   ]
  },
  {
   "cell_type": "markdown",
   "metadata": {},
   "source": [
    "#10. Which of these tests fail? Explain why.\n",
    "test(3 % 4 == 0)\n",
    "test(3 % 4 == 3)\n",
    "test(3 / 4 == 0)\n",
    "test(3 // 4 == 0)\n",
    "test(3+4 * 2 == 14)\n",
    "test(4-2+2 == 0)\n",
    "test(len(\"hello, world!\") == 13)"
   ]
  },
  {
   "cell_type": "code",
   "execution_count": 48,
   "metadata": {
    "collapsed": false
   },
   "outputs": [
    {
     "name": "stdout",
     "output_type": "stream",
     "text": [
      "Test at line 1 FAILED.\n",
      "Test at line 2 ok.\n",
      "Test at line 3 FAILED.\n",
      "Test at line 4 ok.\n",
      "Test at line 5 FAILED.\n",
      "Test at line 6 FAILED.\n",
      "Test at line 7 ok.\n"
     ]
    }
   ],
   "source": [
    "test(3 % 4 == 0) #Because modulo returns the first remainder and the remainder of 3 divided by 4 is 3 as only 0 is divisible\n",
    "test(3 % 4 == 3)\n",
    "test(3 / 4 == 0) #3/4 returns a float\n",
    "test(3 // 4 == 0) #integer division returns the quotient integer largest in the numerical line\n",
    "test(3+4 * 2 == 14) #Fails because 4*2 is done first then add 3 = 11\n",
    "test(4-2+2 == 0) #In python - and + are done left to right so 4-2 first then 2 + 2 = 4\n",
    "test(len(\"hello, world!\") == 13) #Length includes spaces and alphanumeric characters"
   ]
  },
  {
   "cell_type": "markdown",
   "metadata": {},
   "source": [
    "#11. Write a compare function that returns 1 if a > b, 0 if a == b, and -1 if a < b\n",
    "test(compare(5, 4) == 1)\n",
    "test(compare(7, 7) == 0)\n",
    "test(compare(2, 3) == -1)\n",
    "test(compare(42, 1) == 1)"
   ]
  },
  {
   "cell_type": "code",
   "execution_count": 52,
   "metadata": {
    "collapsed": false
   },
   "outputs": [
    {
     "name": "stdout",
     "output_type": "stream",
     "text": [
      "Test at line 11 ok.\n",
      "Test at line 12 ok.\n",
      "Test at line 13 ok.\n",
      "Test at line 14 ok.\n"
     ]
    }
   ],
   "source": [
    "def compare(a,b):\n",
    "    if a > b:\n",
    "        return 1\n",
    "    elif a == b:\n",
    "        return 0\n",
    "    elif a < b:\n",
    "        return -1\n",
    "    else:\n",
    "        return None\n",
    "\n",
    "test(compare(5, 4) == 1)\n",
    "test(compare(7, 7) == 0)\n",
    "test(compare(2, 3) == -1)\n",
    "test(compare(42, 1) == 1)"
   ]
  },
  {
   "cell_type": "markdown",
   "metadata": {},
   "source": [
    "#12. Write a function called hypotenuse that returns the length of the hypotenuse of a right\n",
    "triangle given the lengths of the two legs as parameters:\n",
    "test(hypotenuse(3, 4) == 5.0)\n",
    "test(hypotenuse(12, 5) == 13.0)\n",
    "test(hypotenuse(24, 7) == 25.0)\n",
    "test(hypotenuse(9, 12) == 15.0)"
   ]
  },
  {
   "cell_type": "code",
   "execution_count": 53,
   "metadata": {
    "collapsed": false
   },
   "outputs": [
    {
     "name": "stdout",
     "output_type": "stream",
     "text": [
      "Test at line 4 ok.\n",
      "Test at line 5 ok.\n",
      "Test at line 6 ok.\n",
      "Test at line 7 ok.\n"
     ]
    }
   ],
   "source": [
    "def hypotenuse(a,b):\n",
    "    return (a**2 + b**2)**(1/2)\n",
    "\n",
    "test(hypotenuse(3, 4) == 5.0)\n",
    "test(hypotenuse(12, 5) == 13.0)\n",
    "test(hypotenuse(24, 7) == 25.0)\n",
    "test(hypotenuse(9, 12) == 15.0)"
   ]
  },
  {
   "cell_type": "markdown",
   "metadata": {},
   "source": [
    "#13. Write a function slope(x1, y1, x2, y2) that returns the slope of the line through\n",
    "the points (x1, y1) and (x2, y2). Be sure your implementation of slope can pass the\n",
    "following tests:\n",
    "test(slope(5, 3, 4, 2) == 1.0)\n",
    "test(slope(1, 2, 3, 2) == 0.0)\n",
    "test(slope(1, 2, 3, 3) == 0.5)\n",
    "test(slope(2, 4, 1, 2) == 2.0)\n",
    "Then use a call to slope in a new function named intercept(x1, y1, x2, y2)\n",
    "that returns the y-intercept of the line through the points (x1, y1) and (x2, y2)\n",
    "test(intercept(1, 6, 3, 12) == 3.0)\n",
    "test(intercept(6, 1, 1, 6) == 7.0)\n",
    "test(intercept(4, 6, 12, 8) == 5.0)"
   ]
  },
  {
   "cell_type": "code",
   "execution_count": 54,
   "metadata": {
    "collapsed": false
   },
   "outputs": [
    {
     "name": "stdout",
     "output_type": "stream",
     "text": [
      "Test at line 4 ok.\n",
      "Test at line 5 ok.\n",
      "Test at line 6 ok.\n",
      "Test at line 7 ok.\n"
     ]
    }
   ],
   "source": [
    "def slope(x1,y1,x2,y2):\n",
    "    return (y2-y1)/(x2-x1)\n",
    "\n",
    "test(slope(5, 3, 4, 2) == 1.0)\n",
    "test(slope(1, 2, 3, 2) == 0.0)\n",
    "test(slope(1, 2, 3, 3) == 0.5)\n",
    "test(slope(2, 4, 1, 2) == 2.0)\n",
    "\n",
    "    "
   ]
  },
  {
   "cell_type": "code",
   "execution_count": 57,
   "metadata": {
    "collapsed": false
   },
   "outputs": [
    {
     "name": "stdout",
     "output_type": "stream",
     "text": [
      "Test at line 4 ok.\n",
      "Test at line 5 ok.\n",
      "Test at line 6 ok.\n"
     ]
    }
   ],
   "source": [
    "def intercept(x1, y1, x2, y2):\n",
    "    return y2 - slope(x1,y1,x2,y2) * x2\n",
    "\n",
    "test(intercept(1, 6, 3, 12) == 3.0)\n",
    "test(intercept(6, 1, 1, 6) == 7.0)\n",
    "test(intercept(4, 6, 12, 8) == 5.0)"
   ]
  },
  {
   "cell_type": "markdown",
   "metadata": {},
   "source": [
    "#14. Write a function called is_even(n) that takes an integer as an argument and returns\n",
    "True if the argument is an even number and False if it is odd.\n",
    "Add your own tests to the test suite."
   ]
  },
  {
   "cell_type": "code",
   "execution_count": 6,
   "metadata": {
    "collapsed": false
   },
   "outputs": [
    {
     "name": "stdout",
     "output_type": "stream",
     "text": [
      "Test at line 7 ok.\n",
      "Test at line 8 ok.\n"
     ]
    }
   ],
   "source": [
    "def is_even(n):\n",
    "    return n%2 == 0\n",
    "\n",
    "test(is_even(3)==False)\n",
    "test(is_even(24)==True)"
   ]
  },
  {
   "cell_type": "markdown",
   "metadata": {},
   "source": [
    "#15. Now write the function is_odd(n) that returns True when n is odd and False otherwise.\n",
    "Include unit tests for this function too.\n",
    "Finally, modify it so that it uses a call to is_even to determine if its argument is an odd\n",
    "integer, and ensure that its test still pass."
   ]
  },
  {
   "cell_type": "code",
   "execution_count": 7,
   "metadata": {
    "collapsed": false
   },
   "outputs": [
    {
     "name": "stdout",
     "output_type": "stream",
     "text": [
      "Test at line 4 ok.\n",
      "Test at line 5 ok.\n"
     ]
    }
   ],
   "source": [
    "def is_odd(n):\n",
    "    return not(is_even(n))\n",
    "\n",
    "test(is_odd(3)==True)\n",
    "test(is_odd(24)==False)\n"
   ]
  },
  {
   "cell_type": "markdown",
   "metadata": {},
   "source": [
    "#16. Write a function is_factor(f, n) that passes these tests:\n",
    "test(is_factor(3, 12))\n",
    "test(not is_factor(5, 12))\n",
    "test(is_factor(7, 14))\n",
    "test(not is_factor(7, 15))\n",
    "test(is_factor(1, 15))\n",
    "test(is_factor(15, 15))\n",
    "test(not is_factor(25, 15))\n",
    "An important role of unit tests is that they can also act as unambiguous “specifications”\n",
    "of what is expected. These test cases answer the question Do we treat 1 and 15 as factors\n",
    "of 15?"
   ]
  },
  {
   "cell_type": "code",
   "execution_count": 17,
   "metadata": {
    "collapsed": false
   },
   "outputs": [
    {
     "name": "stdout",
     "output_type": "stream",
     "text": [
      "Test at line 5 ok.\n",
      "Test at line 6 ok.\n",
      "Test at line 7 ok.\n",
      "Test at line 8 ok.\n",
      "Test at line 9 ok.\n",
      "Test at line 10 ok.\n",
      "Test at line 11 ok.\n",
      "Test at line 12 ok.\n"
     ]
    }
   ],
   "source": [
    "#2*3 = 6; 2 and 3 are factors of 6\n",
    "def is_factor(fact,num):\n",
    "    return not(num%fact)\n",
    "\n",
    "test(is_factor(3, 12))\n",
    "test(not is_factor(5, 12))\n",
    "test(is_factor(7, 14))\n",
    "test(not is_factor(7, 15))\n",
    "test(is_factor(1, 15))\n",
    "test(is_factor(15, 15))\n",
    "test(not is_factor(25, 15))\n",
    "test(is_factor(5,15))"
   ]
  },
  {
   "cell_type": "markdown",
   "metadata": {},
   "source": [
    "#17. Write is_multiple to satisfy these unit tests:\n",
    "test(is_multiple(12, 3))\n",
    "test(is_multiple(12, 4))\n",
    "test(not is_multiple(12, 5))\n",
    "test(is_multiple(12, 6))\n",
    "test(not is_multiple(12, 7))"
   ]
  },
  {
   "cell_type": "code",
   "execution_count": 18,
   "metadata": {
    "collapsed": false
   },
   "outputs": [
    {
     "name": "stdout",
     "output_type": "stream",
     "text": [
      "Test at line 5 ok.\n",
      "Test at line 6 ok.\n",
      "Test at line 7 ok.\n",
      "Test at line 8 ok.\n",
      "Test at line 9 ok.\n"
     ]
    }
   ],
   "source": [
    "#12 = 2*6; 12 is a multiple of 6 as 12 is divisible by 6 with 0 remainder\n",
    "def is_multiple(mult, num):\n",
    "    return is_factor(num,mult)\n",
    "\n",
    "test(is_multiple(12, 3))\n",
    "test(is_multiple(12, 4))\n",
    "test(not is_multiple(12, 5))\n",
    "test(is_multiple(12, 6))\n",
    "test(not is_multiple(12, 7))"
   ]
  },
  {
   "cell_type": "markdown",
   "metadata": {},
   "source": [
    "#18. Write the function f2c(t) designed to return the integer value of the nearest degree\n",
    "Celsius for given temperature in Fahrenheit. (hint: you may want to make use of the\n",
    "built-in function, round. Try printing round.__doc__ in a Python shell or looking\n",
    "up help for the round function, and experimenting with it until you are comfortable with\n",
    "how it works.)\n",
    "test(f2c(212) == 100) # Boiling point of water\n",
    "test(f2c(32) == 0) # Freezing point of water\n",
    "test(f2c(-40) == -40) # Wow, what an interesting case!\n",
    "test(f2c(36) == 2)\n",
    "test(f2c(37) == 3)\n",
    "test(f2c(38) == 3)\n",
    "test(f2c(39) == 4)"
   ]
  },
  {
   "cell_type": "code",
   "execution_count": 20,
   "metadata": {
    "collapsed": false
   },
   "outputs": [
    {
     "name": "stdout",
     "output_type": "stream",
     "text": [
      "Test at line 7 ok.\n",
      "Test at line 8 ok.\n",
      "Test at line 9 ok.\n",
      "Test at line 10 ok.\n",
      "Test at line 11 ok.\n",
      "Test at line 12 ok.\n",
      "Test at line 13 ok.\n"
     ]
    }
   ],
   "source": [
    "#T(°C) = (T(°F) - 32) × 5/9\n",
    "#T(°F) = (T(°C)*9/5) + 32\n",
    "\n",
    "def f2c(degree_fahrn):\n",
    "    return round((degree_fahrn - 32) * (5/9))\n",
    "\n",
    "test(f2c(212) == 100) # Boiling point of water\n",
    "test(f2c(32) == 0) # Freezing point of water\n",
    "test(f2c(-40) == -40) # Wow, what an interesting case!\n",
    "test(f2c(36) == 2)\n",
    "test(f2c(37) == 3)\n",
    "test(f2c(38) == 3)\n",
    "test(f2c(39) == 4)\n",
    "\n",
    "    "
   ]
  },
  {
   "cell_type": "markdown",
   "metadata": {},
   "source": [
    "#19. Now do the opposite: write the function c2f which converts Celsius to Fahrenheit:\n",
    "test(c2f(0) == 32)\n",
    "test(c2f(100) == 212)\n",
    "test(c2f(-40) == -40)\n",
    "test(c2f(12) == 54)\n",
    "test(c2f(18) == 64)\n",
    "test(c2f(-48) == -54)"
   ]
  },
  {
   "cell_type": "code",
   "execution_count": 21,
   "metadata": {
    "collapsed": false
   },
   "outputs": [
    {
     "name": "stdout",
     "output_type": "stream",
     "text": [
      "Test at line 6 ok.\n",
      "Test at line 7 ok.\n",
      "Test at line 8 ok.\n",
      "Test at line 9 ok.\n",
      "Test at line 10 ok.\n",
      "Test at line 11 ok.\n"
     ]
    }
   ],
   "source": [
    "#T(°F) = (T(°C)*9/5) + 32\n",
    "\n",
    "def c2f(degree_cel):\n",
    "    return round((degree_cel *(9/5)) + 32)\n",
    "\n",
    "test(c2f(0) == 32)\n",
    "test(c2f(100) == 212)\n",
    "test(c2f(-40) == -40)\n",
    "test(c2f(12) == 54)\n",
    "test(c2f(18) == 64)\n",
    "test(c2f(-48) == -54)"
   ]
  },
  {
   "cell_type": "code",
   "execution_count": null,
   "metadata": {
    "collapsed": true
   },
   "outputs": [],
   "source": []
  }
 ],
 "metadata": {
  "kernelspec": {
   "display_name": "Python 3",
   "language": "python",
   "name": "python3"
  },
  "language_info": {
   "codemirror_mode": {
    "name": "ipython",
    "version": 3
   },
   "file_extension": ".py",
   "mimetype": "text/x-python",
   "name": "python",
   "nbconvert_exporter": "python",
   "pygments_lexer": "ipython3",
   "version": "3.5.2"
  }
 },
 "nbformat": 4,
 "nbformat_minor": 0
}

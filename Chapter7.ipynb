{
 "cells": [
  {
   "cell_type": "code",
   "execution_count": 22,
   "metadata": {
    "collapsed": true
   },
   "outputs": [],
   "source": [
    "import sys\n",
    "\n",
    "def test(did_pass):\n",
    "    \"\"\"  Print the result of a test.  \"\"\"\n",
    "    linenum = sys._getframe(1).f_lineno   # Get the caller's line number.\n",
    "    if did_pass:\n",
    "        msg = \"Test at line {0} ok.\".format(linenum)\n",
    "    else:\n",
    "        msg = (\"Test at line {0} FAILED.\".format(linenum))\n",
    "    print(msg)"
   ]
  },
  {
   "cell_type": "markdown",
   "metadata": {},
   "source": [
    "#1. Write a function to count how many odd numbers are in a list."
   ]
  },
  {
   "cell_type": "code",
   "execution_count": 2,
   "metadata": {
    "collapsed": false
   },
   "outputs": [
    {
     "name": "stdout",
     "output_type": "stream",
     "text": [
      "4\n"
     ]
    }
   ],
   "source": [
    "def count_odd_numbers(n):\n",
    "    counter = 0\n",
    "    for i in n:\n",
    "        if i % 2 != 0:\n",
    "            counter += 1\n",
    "    print(counter)\n",
    "            \n",
    "xs = [1,2,3,4,5,6,7,8]\n",
    "count_odd_numbers(xs)"
   ]
  },
  {
   "cell_type": "markdown",
   "metadata": {},
   "source": [
    "#2. Sum up all the even numbers in a list."
   ]
  },
  {
   "cell_type": "code",
   "execution_count": 4,
   "metadata": {
    "collapsed": false
   },
   "outputs": [
    {
     "name": "stdout",
     "output_type": "stream",
     "text": [
      "Sum of even numbers 20\n"
     ]
    }
   ],
   "source": [
    "def sum_even_numbers(n):\n",
    "    summer = 0\n",
    "    for i in n:\n",
    "        if i%2 == 0:\n",
    "            summer += i\n",
    "    print(\"Sum of even numbers\", summer)\n",
    "\n",
    "xs = [1,2,3,4,5,6,7,8]\n",
    "sum_even_numbers(xs)"
   ]
  },
  {
   "cell_type": "markdown",
   "metadata": {},
   "source": [
    "#3. Sum up all the negative numbers in a list."
   ]
  },
  {
   "cell_type": "code",
   "execution_count": 5,
   "metadata": {
    "collapsed": false
   },
   "outputs": [
    {
     "name": "stdout",
     "output_type": "stream",
     "text": [
      "Sum of negative numbers in list  -6\n"
     ]
    }
   ],
   "source": [
    "def sum_neg_number(n):\n",
    "    summer = 0\n",
    "    for i in n:\n",
    "        if i < 0:\n",
    "            summer += i\n",
    "    print(\"Sum of negative numbers in list \", summer)\n",
    "    \n",
    "xs = [-1,-2,-3,4,5,6]\n",
    "\n",
    "sum_neg_number(xs)"
   ]
  },
  {
   "cell_type": "markdown",
   "metadata": {},
   "source": [
    "#4. Count how many words in a list have length 5."
   ]
  },
  {
   "cell_type": "code",
   "execution_count": 6,
   "metadata": {
    "collapsed": false
   },
   "outputs": [
    {
     "name": "stdout",
     "output_type": "stream",
     "text": [
      "Number of words with length = 5 is  2\n"
     ]
    }
   ],
   "source": [
    "def count_words_length_5(n):\n",
    "    counter = 0\n",
    "    for i in n:\n",
    "        if len(i) == 5:\n",
    "            counter += 1\n",
    "    print(\"Number of words with length = 5 is \", counter)\n",
    "\n",
    "xs = ['Jen', 'Barry','Neville', 'Susie', 'Jeremy']\n",
    "\n",
    "count_words_length_5(xs)"
   ]
  },
  {
   "cell_type": "markdown",
   "metadata": {},
   "source": [
    "#5. Sum all the elements in a list up to but not including the first even number. (Write your\n",
    "unit tests. What if there is no even number?)"
   ]
  },
  {
   "cell_type": "code",
   "execution_count": 10,
   "metadata": {
    "collapsed": false
   },
   "outputs": [
    {
     "name": "stdout",
     "output_type": "stream",
     "text": [
      "Sum all the elements in a list up to but not including the first even number  18\n",
      "Sum all the elements in a list up to but not including the first even number  12\n"
     ]
    }
   ],
   "source": [
    "def sum_elements(n):\n",
    "    summer = 0\n",
    "    v = 1\n",
    "    for i in n:\n",
    "        if v == 1 and i % 2 == 0:\n",
    "            v += 1\n",
    "            continue\n",
    "        else:\n",
    "            if i % 2 == 0:\n",
    "                summer += i\n",
    "        v += 1\n",
    "        \n",
    "    print(\"Sum all the elements in a list up to but not including the first even number \", summer)\n",
    "\n",
    "xs = [2,4,5,6,7,8]\n",
    "\n",
    "sum_elements(xs)\n",
    "\n",
    "xs = [1,2,3,4,5,6]\n",
    "\n",
    "sum_elements(xs)\n"
   ]
  },
  {
   "cell_type": "markdown",
   "metadata": {},
   "source": [
    "#6. Count how many words occur in a list up to and including the first occurrence of the word\n",
    "“sam”. (Write your unit tests for this case too. What if “sam” does not occur?)"
   ]
  },
  {
   "cell_type": "code",
   "execution_count": 13,
   "metadata": {
    "collapsed": false
   },
   "outputs": [
    {
     "name": "stdout",
     "output_type": "stream",
     "text": [
      "Count of words including first occurence of sam  1\n",
      "Count of words including first occurence of sam  2\n",
      "Count of words including first occurence of sam  3\n",
      "No sam in the list count of words are  4\n"
     ]
    }
   ],
   "source": [
    "def count_words(n):\n",
    "    counter = 0\n",
    "    if 'sam' in n:\n",
    "        for i in n:\n",
    "            if i == 'sam':\n",
    "                counter += 1\n",
    "                break\n",
    "            counter += 1    \n",
    "        print(\"Count of words including first occurence of sam \" , counter)\n",
    "    else:\n",
    "        for i in n:\n",
    "            counter += 1\n",
    "        print(\"No sam in the list count of words are \", counter)\n",
    "\n",
    "xs = ['sam', 'terry', 'derryl', 'tom', 'hardy']\n",
    "\n",
    "count_words(xs)\n",
    "\n",
    "xs = ['derryl', 'sam', 'terry', 'sam', 'tom', 'hardy']\n",
    "\n",
    "count_words(xs)\n",
    "\n",
    "xs = ['derryl', 'terry', 'sam', 'tom', 'hardy']\n",
    "\n",
    "count_words(xs)\n",
    "\n",
    "xs = ['derryl', 'terry', 'tom', 'hardy']\n",
    "\n",
    "count_words(xs)"
   ]
  },
  {
   "cell_type": "markdown",
   "metadata": {},
   "source": [
    "#7. Add a print function to Newton’s sqrt function that prints out better each time it is\n",
    "calculated. Call your modified function with 25 as an argument and record the results.\n"
   ]
  },
  {
   "cell_type": "code",
   "execution_count": 15,
   "metadata": {
    "collapsed": false
   },
   "outputs": [
    {
     "name": "stdout",
     "output_type": "stream",
     "text": [
      "7.25   5.349137931034482   5.011394106532552   5.000012953048684   5.000000000016778   "
     ]
    },
    {
     "data": {
      "text/plain": [
       "5.000000000016778"
      ]
     },
     "execution_count": 15,
     "metadata": {},
     "output_type": "execute_result"
    }
   ],
   "source": [
    "def sqrt(n):\n",
    "    approx = n/2.0     # Start with some or other guess at the answer\n",
    "    while True:\n",
    "        better = (approx + n/approx)/2.0\n",
    "        print(better, end=\"   \")\n",
    "        if abs(approx - better) < 0.001:\n",
    "            return better\n",
    "        approx = better\n",
    "\n",
    "sqrt(25)"
   ]
  },
  {
   "cell_type": "markdown",
   "metadata": {},
   "source": [
    "#8. Trace the execution of the last version of print_mult_table and figure out how it\n",
    "works."
   ]
  },
  {
   "cell_type": "code",
   "execution_count": 17,
   "metadata": {
    "collapsed": false
   },
   "outputs": [
    {
     "name": "stdout",
     "output_type": "stream",
     "text": [
      "1   \n",
      "2   4   \n",
      "3   6   9   \n",
      "4   8   12   16   \n",
      "5   10   15   20   25   \n",
      "6   12   18   24   30   36   \n",
      "7   14   21   28   35   42   49   \n"
     ]
    }
   ],
   "source": [
    "def print_multiples(n, high):\n",
    "    for i in range(1, high+1):\n",
    "        print(n * i, end=\"   \")\n",
    "    print()\n",
    "\n",
    "def print_mult_table(high):\n",
    "    for i in range(1, high+1):\n",
    "        print_multiples(i, i)\n",
    "        \n",
    "\n",
    "print_mult_table(7)"
   ]
  },
  {
   "cell_type": "markdown",
   "metadata": {},
   "source": [
    "#9.Write a function print_triangular_numbers(n) that prints out the first n triangular numbers. A call to print_triangular_numbers(5) would produce the following output:\n",
    "\n",
    "1       1\n",
    "2       3\n",
    "3       6\n",
    "4       10\n",
    "5       15\n",
    "\n",
    "(hint: use a web search to find out what a triangular number is.)\n"
   ]
  },
  {
   "cell_type": "code",
   "execution_count": 21,
   "metadata": {
    "collapsed": false
   },
   "outputs": [
    {
     "name": "stdout",
     "output_type": "stream",
     "text": [
      "1 \t 1 \n",
      "\n",
      "2 \t 3 \n",
      "\n",
      "3 \t 6 \n",
      "\n",
      "4 \t 10 \n",
      "\n",
      "5 \t 15 \n",
      "\n"
     ]
    }
   ],
   "source": [
    "def print_triangular_numbers(n):\n",
    "    for i in range(1,n+1):\n",
    "        print(i, '\\t', int(i*(i+1)/2), '\\n')\n",
    "\n",
    "print_triangular_numbers(5)"
   ]
  },
  {
   "cell_type": "markdown",
   "metadata": {},
   "source": [
    "#10.Write a function, is_prime, which takes a single integer argument and returns True when the argument is a prime number and False otherwise. Add tests for cases like this:\n",
    "\n",
    "\n",
    "test(is_prime(11))\n",
    "test(not is_prime(35))\n",
    "test(is_prime(19911121))\n",
    "\n",
    "\n",
    "The last case could represent your birth date. Were you born on a prime day? In a class of 100 students, how many do you think would have prime birth dates?\n"
   ]
  },
  {
   "cell_type": "code",
   "execution_count": 34,
   "metadata": {
    "collapsed": false
   },
   "outputs": [
    {
     "name": "stdout",
     "output_type": "stream",
     "text": [
      "Test at line 9 ok.\n",
      "Test at line 10 ok.\n",
      "Test at line 11 ok.\n",
      "Test at line 12 FAILED.\n",
      "Test at line 13 FAILED.\n"
     ]
    }
   ],
   "source": [
    "def is_prime(n):\n",
    "    flag = True\n",
    "    for i in range(2,n):\n",
    "        if n%i == 0:\n",
    "            flag = False\n",
    "            break\n",
    "    return flag\n",
    "\n",
    "test(is_prime(11))\n",
    "test(not is_prime(35))\n",
    "test(is_prime(19911121))\n",
    "test(is_prime(19800323))\n",
    "test(is_prime(23031980))"
   ]
  },
  {
   "cell_type": "markdown",
   "metadata": {},
   "source": [
    "#11.Revisit the drunk pirate problem from the exercises in chapter 3. This time, the drunk pirate makes a turn, and then takes some steps forward, and repeats this. Our social science student now records pairs of data: the angle of each turn, and the number of steps taken after the turn. Her experimental data is [(160, 20), (-43, 10), (270, 8), (-43, 12)]. Use a turtle to draw the path taken by our drunk friend."
   ]
  },
  {
   "cell_type": "code",
   "execution_count": 36,
   "metadata": {
    "collapsed": false
   },
   "outputs": [
    {
     "ename": "Terminator",
     "evalue": "",
     "output_type": "error",
     "traceback": [
      "\u001b[0;31m---------------------------------------------------------------------------\u001b[0m",
      "\u001b[0;31mTerminator\u001b[0m                                Traceback (most recent call last)",
      "\u001b[0;32m<ipython-input-36-09396dd590a4>\u001b[0m in \u001b[0;36m<module>\u001b[0;34m()\u001b[0m\n\u001b[1;32m     10\u001b[0m \u001b[1;33m\u001b[0m\u001b[0m\n\u001b[1;32m     11\u001b[0m \u001b[0mwn\u001b[0m\u001b[1;33m.\u001b[0m\u001b[0mmainloop\u001b[0m\u001b[1;33m(\u001b[0m\u001b[1;33m)\u001b[0m\u001b[1;33m\u001b[0m\u001b[0m\n\u001b[0;32m---> 12\u001b[0;31m \u001b[0mturtle\u001b[0m\u001b[1;33m.\u001b[0m\u001b[0mdone\u001b[0m\u001b[1;33m(\u001b[0m\u001b[1;33m)\u001b[0m\u001b[1;33m\u001b[0m\u001b[0m\n\u001b[0m",
      "\u001b[0;32mE:\\APPS\\Anaconda3\\lib\\turtle.py\u001b[0m in \u001b[0;36mmainloop\u001b[0;34m()\u001b[0m\n",
      "\u001b[0;31mTerminator\u001b[0m: "
     ]
    }
   ],
   "source": [
    "import turtle\n",
    "\n",
    "wn = turtle.Screen()\n",
    "alex = turtle.Turtle()\n",
    "alex.shape(\"turtle\")\n",
    "\n",
    "for (angle,length) in [(160, 20), (-43, 10), (270, 8), (-43, 12)]:\n",
    "    alex.forward(length)\n",
    "    alex.left(angle)\n",
    "\n",
    "wn.mainloop()\n",
    "turtle.done()"
   ]
  },
  {
   "cell_type": "markdown",
   "metadata": {},
   "source": [
    "#12.Many interesting shapes can be drawn by the turtle by giving a list of pairs like we did above, where the first item of the pair is the angle to turn, and the second item is the distance to move forward. Set up a list of pairs so that the turtle draws a house with a cross through the centre, as show here. This should be done without going over any of the lines / edges more than once, and without lifting your pen.\n",
    "_images/tess_house.png "
   ]
  },
  {
   "cell_type": "code",
   "execution_count": 55,
   "metadata": {
    "collapsed": false
   },
   "outputs": [
    {
     "ename": "Terminator",
     "evalue": "",
     "output_type": "error",
     "traceback": [
      "\u001b[0;31m---------------------------------------------------------------------------\u001b[0m",
      "\u001b[0;31mTerminator\u001b[0m                                Traceback (most recent call last)",
      "\u001b[0;32m<ipython-input-55-595edc179422>\u001b[0m in \u001b[0;36m<module>\u001b[0;34m()\u001b[0m\n\u001b[1;32m     12\u001b[0m \u001b[1;33m\u001b[0m\u001b[0m\n\u001b[1;32m     13\u001b[0m \u001b[0mwn\u001b[0m\u001b[1;33m.\u001b[0m\u001b[0mmainloop\u001b[0m\u001b[1;33m(\u001b[0m\u001b[1;33m)\u001b[0m\u001b[1;33m\u001b[0m\u001b[0m\n\u001b[0;32m---> 14\u001b[0;31m \u001b[0mturtle\u001b[0m\u001b[1;33m.\u001b[0m\u001b[0mdone\u001b[0m\u001b[1;33m(\u001b[0m\u001b[1;33m)\u001b[0m\u001b[1;33m\u001b[0m\u001b[0m\n\u001b[0m",
      "\u001b[0;32mE:\\APPS\\Anaconda3\\lib\\turtle.py\u001b[0m in \u001b[0;36mmainloop\u001b[0;34m()\u001b[0m\n",
      "\u001b[0;31mTerminator\u001b[0m: "
     ]
    }
   ],
   "source": [
    "import turtle\n",
    "from math import sqrt\n",
    "\n",
    "wn = turtle.Screen()\n",
    "alex = turtle.Turtle()\n",
    "alex.shape(\"turtle\")\n",
    "\n",
    "for (angle,length) in [(0,50),(90,50),(90,50),(90,50),(135,50*sqrt(2)),(90,50*sqrt(2)/2), (90,50*sqrt(2)/2),(90,50*sqrt(2))]:#,(90,50/(2*sqrt(2))),(45,50),(135,50),(45,50),(45,50)]:#,(-90,50),(-90,50),(-30,50),(-90,50)]:\n",
    "    alex.left(angle)\n",
    "    alex.forward(length)\n",
    "    \n",
    "\n",
    "wn.mainloop()\n",
    "turtle.done()"
   ]
  },
  {
   "cell_type": "markdown",
   "metadata": {},
   "source": [
    "#14.What will num_digits(0) return? Modify it to return 1 for this case. Why does a call to num_digits(-24) result in an infinite loop? (hint: -1//10 evaluates to -1) Modify num_digits so that it works correctly with any integer value. Add these tests:\n",
    "\n",
    "\n",
    "test(num_digits(0) == 1)\n",
    "test(num_digits(-12345) == 5)"
   ]
  },
  {
   "cell_type": "code",
   "execution_count": 69,
   "metadata": {
    "collapsed": false
   },
   "outputs": [
    {
     "name": "stdout",
     "output_type": "stream",
     "text": [
      "Test at line 10 ok.\n",
      "Test at line 11 ok.\n"
     ]
    }
   ],
   "source": [
    "def num_digits(n):\n",
    "    count = 0\n",
    "    if n == 0:\n",
    "        count = 1\n",
    "    while n != 0:\n",
    "        count = count + 1\n",
    "        n = abs(n) // 10\n",
    "    return count\n",
    "\n",
    "test(num_digits(0) == 1)\n",
    "test(num_digits(-12345) == 5)"
   ]
  },
  {
   "cell_type": "markdown",
   "metadata": {},
   "source": [
    "#15.Write a function num_even_digits(n) that counts the number of even digits in n. These tests should pass:\n",
    "\n",
    "\n",
    "test(num_even_digits(123456) == 3)\n",
    "test(num_even_digits(2468) == 4)\n",
    "test(num_even_digits(1357) == 0)\n",
    "test(num_even_digits(0) == 1)"
   ]
  },
  {
   "cell_type": "code",
   "execution_count": 85,
   "metadata": {
    "collapsed": false
   },
   "outputs": [
    {
     "name": "stdout",
     "output_type": "stream",
     "text": [
      "Test at line 13 ok.\n",
      "Test at line 14 ok.\n",
      "Test at line 15 ok.\n",
      "Test at line 16 ok.\n",
      "Test at line 17 ok.\n"
     ]
    }
   ],
   "source": [
    "def num_even_digits(n):\n",
    "    counter = 0\n",
    "    length_number = len(str(n))\n",
    "    i = 1\n",
    "    while i <= length_number:\n",
    "        \n",
    "        if (abs(n)%10) % 2 == 0:            \n",
    "            counter += 1        \n",
    "        n = abs(n)//10\n",
    "        i+=1\n",
    "    return counter\n",
    "\n",
    "test(num_even_digits(123456) == 3)\n",
    "test(num_even_digits(2468) == 4)\n",
    "test(num_even_digits(1357) == 0)\n",
    "test(num_even_digits(0) == 1)\n",
    "test(num_even_digits(2222222222224444443330) == 19)"
   ]
  },
  {
   "cell_type": "markdown",
   "metadata": {},
   "source": [
    "#16.Write a function sum_of_squares(xs) that computes the sum of the squares of the numbers in the list xs. For example, sum_of_squares([2, 3, 4]) should return 4+9+16 which is 29:\n",
    "\n",
    "\n",
    "test(sum_of_squares([2, 3, 4]) == 29)\n",
    "test(sum_of_squares([ ]) == 0)\n",
    "test(sum_of_squares([2, -3, 4]) == 29)"
   ]
  },
  {
   "cell_type": "code",
   "execution_count": null,
   "metadata": {
    "collapsed": false
   },
   "outputs": [],
   "source": [
    "def sum_of_squares(xs):\n",
    "    summer = 0\n",
    "    for i in xs:\n",
    "        summer += i**2\n",
    "    return summer\n",
    "\n",
    "test(sum_of_squares([2, 3, 4]) == 29)\n",
    "test(sum_of_squares([ ]) == 0)\n",
    "test(sum_of_squares([2, -3, 4]) == 29)"
   ]
  },
  {
   "cell_type": "markdown",
   "metadata": {},
   "source": [
    "#17.You and your friend are in a team to write a two-player game, human against computer, such as Tic-Tac-Toe / Noughts and Crosses. Your friend will write the logic to play one round of the game, while you will write the logic to allow many rounds of play, keep score, decide who plays, first, etc. The two of you negotiate on how the two parts of the program will fit together, and you come up with this simple scaffolding (which your friend will improve later):\n",
    "\n",
    "Your friend will complete this function\n",
    "def play_once(human_plays_first):\n",
    "    \"\"\"\n",
    "       Must play one round of the game. If the parameter\n",
    "       is True, the human gets to play first, else the\n",
    "       computer gets to play first.  When the round ends,\n",
    "       the return value of the function is one of\n",
    "       -1 (human wins),  0 (game drawn),   1 (computer wins).\n",
    "    \"\"\"\n",
    "#This is all dummy scaffolding code right at the moment...\n",
    "    import random                  # See Modules chapter ...\n",
    "    rng = random.Random()\n",
    "#Pick a random result between -1 and 1.\n",
    "    result = rng.randrange(-1,2)\n",
    "    print(\"Human plays first={0},  winner={1} \"\n",
    "                       .format(human_plays_first, result))\n",
    "    return result\n",
    "\n",
    " \n",
    "a.Write the main program which repeatedly calls this function to play the game, and after each round it announces the outcome as “I win!”, “You win!”, or “Game drawn!”. It then asks the player “Do you want to play again?” and either plays again, or says “Goodbye”, and terminates.\n",
    "b.Keep score of how many wins each player has had, and how many draws there have been. After each round of play, also announce the scores.\n",
    "c.Add logic so that the players take turns to play first.\n",
    "d.Compute the percentage of wins for the human, out of all games played. Also announce this at the end of each round.\n",
    "e.Draw a flowchart of your logic.\n"
   ]
  },
  {
   "cell_type": "code",
   "execution_count": 1,
   "metadata": {
    "collapsed": false
   },
   "outputs": [
    {
     "name": "stdout",
     "output_type": "stream",
     "text": [
      "Human plays first=human,  winner=0 \n",
      "Game drawn\n",
      "Human score is  0.0 %\n",
      "Do you want to play again y\n",
      "?y\n",
      "Who likes to play now human\\computer?human\n",
      "Human plays first=human,  winner=-1 \n",
      "I win\n",
      "Human score is  50.0 %\n",
      "Do you want to play again y\n",
      "?y\n",
      "Who likes to play now human\\computer?computer\n",
      "Human plays first=computer,  winner=-1 \n",
      "I win\n",
      "Human score is  66.66666666666666 %\n",
      "Do you want to play again y\n",
      "?n\n",
      "Goodbye\n"
     ]
    }
   ],
   "source": [
    "def play_once(human_plays_first):\n",
    "    \"\"\"\n",
    "       Must play one round of the game. If the parameter\n",
    "       is True, the human gets to play first, else the\n",
    "       computer gets to play first.  When the round ends,\n",
    "       the return value of the function is one of\n",
    "       -1 (human wins),  0 (game drawn),   1 (computer wins).\n",
    "    \"\"\"\n",
    "#This is all dummy scaffolding code right at the moment...\n",
    "    import random                  # See Modules chapter ...\n",
    "    rng = random.Random()\n",
    "#Pick a random result between -1 and 1.\n",
    "    result = rng.randrange(-1,2)\n",
    "    print(\"Human plays first={0},  winner={1} \"\n",
    "                       .format(human_plays_first, result))\n",
    "    return result\n",
    "\n",
    "\n",
    "def play_game(entity):\n",
    "    score_player_1 = 0\n",
    "    score_player_2 = 0\n",
    "    score_drawn = 0\n",
    "    play_again ='y'\n",
    "    while play_again == 'y':\n",
    "        result = play_once(entity)\n",
    "        if result == -1:\n",
    "            print(\"I win\")\n",
    "            score_player_1 += 1\n",
    "        elif result == 0:\n",
    "            print(\"Game drawn\")\n",
    "            score_drawn += 1\n",
    "        else:\n",
    "            print(\"You win\")\n",
    "            score_player_2 += 1            \n",
    "        print(\"Human score is \", (score_player_1/(score_player_1+score_player_2+score_drawn))*100, '%')\n",
    "        play_again = input(\"Do you want to play again y\\n?\")\n",
    "        if play_again == 'n':\n",
    "            print(\"Goodbye\")\n",
    "            break\n",
    "        entity = input(\"Who likes to play now human\\computer?\")\n",
    "    \n",
    "\n",
    "play_game('human')"
   ]
  },
  {
   "cell_type": "code",
   "execution_count": null,
   "metadata": {
    "collapsed": true
   },
   "outputs": [],
   "source": [
    "\n"
   ]
  }
 ],
 "metadata": {
  "kernelspec": {
   "display_name": "Python 3",
   "language": "python",
   "name": "python3"
  },
  "language_info": {
   "codemirror_mode": {
    "name": "ipython",
    "version": 3
   },
   "file_extension": ".py",
   "mimetype": "text/x-python",
   "name": "python",
   "nbconvert_exporter": "python",
   "pygments_lexer": "ipython3",
   "version": "3.5.2"
  }
 },
 "nbformat": 4,
 "nbformat_minor": 2
}

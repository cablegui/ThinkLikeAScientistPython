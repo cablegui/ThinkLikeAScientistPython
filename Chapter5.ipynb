{
 "cells": [
  {
   "cell_type": "markdown",
   "metadata": {},
   "source": [
    "#1. Assume the days of the week are numbered 0,1,2,3,4,5,6 from Sunday to Saturday. Write\n",
    "a function which is given the day number, and it returns the day name (a string)."
   ]
  },
  {
   "cell_type": "code",
   "execution_count": 1,
   "metadata": {
    "collapsed": false
   },
   "outputs": [
    {
     "data": {
      "text/plain": [
       "'Monday'"
      ]
     },
     "execution_count": 1,
     "metadata": {},
     "output_type": "execute_result"
    }
   ],
   "source": [
    "def get_day_name(num):\n",
    "    if num == 0:\n",
    "        return 'Sunday'\n",
    "    elif num == 1:\n",
    "        return 'Monday'\n",
    "    elif num == 2:\n",
    "        return 'Tuesday'\n",
    "    elif num == 3:\n",
    "        return 'Wednesday'\n",
    "    elif num == 4:\n",
    "        return 'Thursday'\n",
    "    elif num == 5:\n",
    "        return 'Friday'\n",
    "    elif num == 6:\n",
    "        return 'Saturday'\n",
    "    else:\n",
    "        return 'Not a valid number'\n",
    "\n",
    "get_day_name(1)"
   ]
  },
  {
   "cell_type": "markdown",
   "metadata": {},
   "source": [
    "#2. You go on a wonderful holiday (perhaps to jail, if you don’t like happy exercises) leaving\n",
    "on day number 3 (a Wednesday). You return home after 137 sleeps. Write a general\n",
    "version of the program which asks for the starting day number, and the length of your\n",
    "stay, and it will tell you the name of day of the week you will return on."
   ]
  },
  {
   "cell_type": "code",
   "execution_count": 28,
   "metadata": {
    "collapsed": false
   },
   "outputs": [
    {
     "name": "stdout",
     "output_type": "stream",
     "text": [
      "If you start on  Sunday  then return  7  days later, you will arrive on a  Sunday\n"
     ]
    }
   ],
   "source": [
    "\n",
    "#get the day name string\n",
    "\n",
    "def get_day_name(num):\n",
    "    if num == 0:\n",
    "        return 'Sunday'\n",
    "    elif num == 1:\n",
    "        return 'Monday'\n",
    "    elif num == 2:\n",
    "        return 'Tuesday'\n",
    "    elif num == 3:\n",
    "        return 'Wednesday'\n",
    "    elif num == 4:\n",
    "        return 'Thursday'\n",
    "    elif num == 5:\n",
    "        return 'Friday'\n",
    "    elif num == 6:\n",
    "        return 'Saturday'\n",
    "    else:\n",
    "        return 'Not a valid number'\n",
    "\n",
    "\n",
    "\n",
    "    \n",
    "def return_on(start, no_of_days):\n",
    "    print(\"If you start on \", get_day_name(start), \" then return \", no_of_days, \" days later, you will arrive on a \",\\\n",
    "          get_day_name((start + no_of_days)%7))\n",
    "    \n",
    "    \n",
    "\n",
    "return_on(0,7)\n"
   ]
  },
  {
   "cell_type": "markdown",
   "metadata": {
    "collapsed": true
   },
   "source": [
    "3. Give the logical opposites of these conditions\n",
    "(a) a > b\n",
    "(b) a >= b\n",
    "(c) a >= 18 and day == 3\n",
    "(d) a >= 18 and day != 3"
   ]
  },
  {
   "cell_type": "markdown",
   "metadata": {},
   "source": [
    "1. a <= b\n",
    "2. a > b\n",
    "3. a < 18 and day != 3\n",
    "4. a < 18 and day == 3"
   ]
  },
  {
   "cell_type": "markdown",
   "metadata": {},
   "source": [
    "4. What do these expressions evaluate to?\n",
    "(a) 3 == 3\n",
    "(b) 3 != 3\n",
    "(c) 3 >= 4\n",
    "(d) not (3 < 4)"
   ]
  },
  {
   "cell_type": "code",
   "execution_count": 29,
   "metadata": {
    "collapsed": false
   },
   "outputs": [
    {
     "data": {
      "text/plain": [
       "True"
      ]
     },
     "execution_count": 29,
     "metadata": {},
     "output_type": "execute_result"
    }
   ],
   "source": [
    "3==3"
   ]
  },
  {
   "cell_type": "code",
   "execution_count": 30,
   "metadata": {
    "collapsed": false
   },
   "outputs": [
    {
     "data": {
      "text/plain": [
       "False"
      ]
     },
     "execution_count": 30,
     "metadata": {},
     "output_type": "execute_result"
    }
   ],
   "source": [
    "3!=3"
   ]
  },
  {
   "cell_type": "code",
   "execution_count": 31,
   "metadata": {
    "collapsed": false
   },
   "outputs": [
    {
     "data": {
      "text/plain": [
       "False"
      ]
     },
     "execution_count": 31,
     "metadata": {},
     "output_type": "execute_result"
    }
   ],
   "source": [
    "3 >=4"
   ]
  },
  {
   "cell_type": "code",
   "execution_count": 32,
   "metadata": {
    "collapsed": false
   },
   "outputs": [
    {
     "data": {
      "text/plain": [
       "False"
      ]
     },
     "execution_count": 32,
     "metadata": {},
     "output_type": "execute_result"
    }
   ],
   "source": [
    "not(3<4)"
   ]
  },
  {
   "cell_type": "markdown",
   "metadata": {},
   "source": [
    "5. Complete this truth table:\n",
    "p q r (not (p and q)) or r\n",
    "F F F ?\n",
    "F F T ?\n",
    "F T F ?\n",
    "F T T ?\n",
    "T F F ?\n",
    "T F T ?\n",
    "T T F ?\n",
    "T T T ?"
   ]
  },
  {
   "cell_type": "markdown",
   "metadata": {},
   "source": [
    "p q r (not (p and q)) or r\n",
    "F F F T\n",
    "F F T T\n",
    "F T F T\n",
    "F T T T\n",
    "T F F T\n",
    "T F T T\n",
    "T T F F\n",
    "T T T T"
   ]
  },
  {
   "cell_type": "code",
   "execution_count": 40,
   "metadata": {
    "collapsed": false
   },
   "outputs": [
    {
     "data": {
      "text/plain": [
       "True"
      ]
     },
     "execution_count": 40,
     "metadata": {},
     "output_type": "execute_result"
    }
   ],
   "source": [
    "p = True\n",
    "q = True\n",
    "r = True\n",
    "not((p and q)) or r"
   ]
  },
  {
   "cell_type": "markdown",
   "metadata": {},
   "source": [
    "6. Write a function which is given an exam mark, and it returns a string — the grade for\n",
    "that mark — according to this scheme:\n",
    "Mark Grade\n",
    ">= 75 First\n",
    "[70-75) Upper Second\n",
    "[60-70) Second\n",
    "[50-60) Third\n",
    "[45-50) F1 Supp\n",
    "[40-45) F2\n",
    "< 40 F3\n",
    "The square and round brackets denote closed and open intervals. A closed interval includes\n",
    "the number, and open interval excludes it. So 39.99999 gets grade F3, but 40 gets\n",
    "grade F2. Assume\n",
    "xs = [83, 75, 74.9, 70, 69.9, 65, 60, 59.9, 55, 50,\n",
    "49.9, 45, 44.9, 40, 39.9, 2, 0]\n",
    "Test your function by printing the mark and the grade for all the elements in this list."
   ]
  },
  {
   "cell_type": "code",
   "execution_count": 44,
   "metadata": {
    "collapsed": false
   },
   "outputs": [
    {
     "name": "stdout",
     "output_type": "stream",
     "text": [
      "First\n",
      "First\n",
      "Upper Second\n",
      "Upper Second\n",
      "Second\n",
      "Second\n",
      "Second\n",
      "Third\n",
      "Third\n",
      "Third\n",
      "F1 Supp\n",
      "F1 Supp\n",
      "F2\n",
      "F2\n",
      "F3\n",
      "F3\n",
      "F3\n"
     ]
    }
   ],
   "source": [
    "def get_marks(mark):\n",
    "    if mark < 40:\n",
    "        print(\"F3\")\n",
    "    elif 40 <= mark < 45:\n",
    "        print(\"F2\")\n",
    "    elif 45 <= mark < 50:\n",
    "        print(\"F1 Supp\")\n",
    "    elif 50 <= mark < 60:\n",
    "        print(\"Third\")\n",
    "    elif 60 <= mark < 70:\n",
    "        print(\"Second\")\n",
    "    elif 70 <= mark < 75:\n",
    "        print(\"Upper Second\")\n",
    "    elif mark >= 75:\n",
    "        print(\"First\")\n",
    "    else: \n",
    "        prin(\"Not a valid mark\")\n",
    "\n",
    "xs = [83, 75, 74.9, 70, 69.9, 65, 60, 59.9, 55, 50,\\\n",
    "49.9, 45, 44.9, 40, 39.9, 2, 0]\n",
    "\n",
    "for marks in xs:\n",
    "    get_marks(marks)"
   ]
  },
  {
   "cell_type": "markdown",
   "metadata": {},
   "source": [
    "7. Modify the turtle bar chart program so that the pen is up for the small gaps between each\n",
    "bar."
   ]
  },
  {
   "cell_type": "code",
   "execution_count": 49,
   "metadata": {
    "collapsed": false
   },
   "outputs": [
    {
     "ename": "Terminator",
     "evalue": "",
     "output_type": "error",
     "traceback": [
      "\u001b[1;31m---------------------------------------------------------------------------\u001b[0m",
      "\u001b[1;31mTerminator\u001b[0m                                Traceback (most recent call last)",
      "\u001b[1;32m<ipython-input-49-fb903b455096>\u001b[0m in \u001b[0;36m<module>\u001b[1;34m()\u001b[0m\n\u001b[0;32m     29\u001b[0m \u001b[1;33m\u001b[0m\u001b[0m\n\u001b[0;32m     30\u001b[0m \u001b[0mwn\u001b[0m\u001b[1;33m.\u001b[0m\u001b[0mmainloop\u001b[0m\u001b[1;33m(\u001b[0m\u001b[1;33m)\u001b[0m\u001b[1;33m\u001b[0m\u001b[0m\n\u001b[1;32m---> 31\u001b[1;33m \u001b[0mturtle\u001b[0m\u001b[1;33m.\u001b[0m\u001b[0mdone\u001b[0m\u001b[1;33m(\u001b[0m\u001b[1;33m)\u001b[0m\u001b[1;33m\u001b[0m\u001b[0m\n\u001b[0m",
      "\u001b[1;32mG:\\Anaconda3\\lib\\turtle.py\u001b[0m in \u001b[0;36mmainloop\u001b[1;34m()\u001b[0m\n",
      "\u001b[1;31mTerminator\u001b[0m: "
     ]
    }
   ],
   "source": [
    "import turtle\n",
    "wn = turtle.Screen()\n",
    "tess = turtle.Turtle()\n",
    "wn.bgcolor(\"lightgreen\")\n",
    "tess.color(\"blue\", \"red\")\n",
    "tess.pensize(3)\n",
    "\n",
    "def draw_bar(t, height):\n",
    "    \"\"\" Get turtle t to draw one bar, of height. \"\"\"\n",
    "    t.begin_fill() # Added this line\n",
    "    t.left(90)\n",
    "    t.forward(height)\n",
    "    t.write(\" \"+ str(height))\n",
    "    t.right(90)\n",
    "    t.forward(40)\n",
    "    t.right(90)\n",
    "    t.forward(height)\n",
    "    t.left(90)\n",
    "    t.end_fill() # Added this line\n",
    "    t.penup()\n",
    "    t.forward(10)\n",
    "    t.pendown()\n",
    "\n",
    "    \n",
    "xs = [48,117,200,240,160,260,220]    \n",
    "\n",
    "for a in xs:\n",
    "    draw_bar(tess, a)\n",
    "\n",
    "wn.mainloop()\n",
    "turtle.done()"
   ]
  },
  {
   "cell_type": "markdown",
   "metadata": {},
   "source": [
    "8. Modify the turtle bar chart program so that the bar for any value of 200 or more is filled\n",
    "with red, values between [100 and 200) are filled with yellow, and bars representing values less than 100 are filled with green."
   ]
  },
  {
   "cell_type": "code",
   "execution_count": 50,
   "metadata": {
    "collapsed": false
   },
   "outputs": [
    {
     "ename": "Terminator",
     "evalue": "",
     "output_type": "error",
     "traceback": [
      "\u001b[1;31m---------------------------------------------------------------------------\u001b[0m",
      "\u001b[1;31mTerminator\u001b[0m                                Traceback (most recent call last)",
      "\u001b[1;32m<ipython-input-50-f75823f87dbd>\u001b[0m in \u001b[0;36m<module>\u001b[1;34m()\u001b[0m\n\u001b[0;32m     36\u001b[0m \u001b[1;33m\u001b[0m\u001b[0m\n\u001b[0;32m     37\u001b[0m \u001b[0mwn\u001b[0m\u001b[1;33m.\u001b[0m\u001b[0mmainloop\u001b[0m\u001b[1;33m(\u001b[0m\u001b[1;33m)\u001b[0m\u001b[1;33m\u001b[0m\u001b[0m\n\u001b[1;32m---> 38\u001b[1;33m \u001b[0mturtle\u001b[0m\u001b[1;33m.\u001b[0m\u001b[0mdone\u001b[0m\u001b[1;33m(\u001b[0m\u001b[1;33m)\u001b[0m\u001b[1;33m\u001b[0m\u001b[0m\n\u001b[0m",
      "\u001b[1;32mG:\\Anaconda3\\lib\\turtle.py\u001b[0m in \u001b[0;36mmainloop\u001b[1;34m()\u001b[0m\n",
      "\u001b[1;31mTerminator\u001b[0m: "
     ]
    }
   ],
   "source": [
    "import turtle\n",
    "wn = turtle.Screen()\n",
    "tess = turtle.Turtle()\n",
    "wn.bgcolor(\"lightgreen\")\n",
    "\n",
    "tess.pensize(3)\n",
    "\n",
    "def draw_bar(t, height):\n",
    "    \"\"\" Get turtle t to draw one bar, of height. \"\"\"\n",
    "    if height < 100:\n",
    "        t.color(\"blue\", \"green\")\n",
    "    elif 100 <= height < 200:\n",
    "        t.color(\"blue\", \"yellow\")\n",
    "    elif height >= 200:\n",
    "        t.color(\"blue\", \"red\")\n",
    "    \n",
    "    t.begin_fill() # Added this line\n",
    "    t.left(90)\n",
    "    t.forward(height)\n",
    "    t.write(\" \"+ str(height))\n",
    "    t.right(90)\n",
    "    t.forward(40)\n",
    "    t.right(90)\n",
    "    t.forward(height)\n",
    "    t.left(90)\n",
    "    t.end_fill() # Added this line\n",
    "    t.penup()\n",
    "    t.forward(10)\n",
    "    t.pendown()\n",
    "\n",
    "    \n",
    "xs = [48,117,200,240,160,260,220]    \n",
    "\n",
    "for a in xs:\n",
    "    draw_bar(tess, a)\n",
    "\n",
    "wn.mainloop()\n",
    "turtle.done()"
   ]
  },
  {
   "cell_type": "markdown",
   "metadata": {},
   "source": [
    "9. In the turtle bar chart program, what do you expect to happen if one or more of the data\n",
    "values in the list is negative? Try it out. Change the program so that when it prints the\n",
    "text value for the negative bars, it puts the text below the bottom of the bar."
   ]
  },
  {
   "cell_type": "code",
   "execution_count": 58,
   "metadata": {
    "collapsed": false
   },
   "outputs": [
    {
     "ename": "Terminator",
     "evalue": "",
     "output_type": "error",
     "traceback": [
      "\u001b[1;31m---------------------------------------------------------------------------\u001b[0m",
      "\u001b[1;31mTerminator\u001b[0m                                Traceback (most recent call last)",
      "\u001b[1;32m<ipython-input-58-a25e5fa75071>\u001b[0m in \u001b[0;36m<module>\u001b[1;34m()\u001b[0m\n\u001b[0;32m     45\u001b[0m \u001b[1;33m\u001b[0m\u001b[0m\n\u001b[0;32m     46\u001b[0m \u001b[0mwn\u001b[0m\u001b[1;33m.\u001b[0m\u001b[0mmainloop\u001b[0m\u001b[1;33m(\u001b[0m\u001b[1;33m)\u001b[0m\u001b[1;33m\u001b[0m\u001b[0m\n\u001b[1;32m---> 47\u001b[1;33m \u001b[0mturtle\u001b[0m\u001b[1;33m.\u001b[0m\u001b[0mdone\u001b[0m\u001b[1;33m(\u001b[0m\u001b[1;33m)\u001b[0m\u001b[1;33m\u001b[0m\u001b[0m\n\u001b[0m",
      "\u001b[1;32mG:\\Anaconda3\\lib\\turtle.py\u001b[0m in \u001b[0;36mmainloop\u001b[1;34m()\u001b[0m\n",
      "\u001b[1;31mTerminator\u001b[0m: "
     ]
    }
   ],
   "source": [
    "import turtle\n",
    "wn = turtle.Screen()\n",
    "tess = turtle.Turtle()\n",
    "wn.bgcolor(\"lightgreen\")\n",
    "\n",
    "tess.pensize(3)\n",
    "\n",
    "def draw_bar(t, height):\n",
    "    \"\"\" Get turtle t to draw one bar, of height. \"\"\"\n",
    "    if height < 100:\n",
    "        t.color(\"blue\", \"green\")\n",
    "    elif 100 <= height < 200:\n",
    "        t.color(\"blue\", \"yellow\")\n",
    "    elif height >= 200:\n",
    "        t.color(\"blue\", \"red\")\n",
    "    \n",
    "\n",
    "    \n",
    "    t.begin_fill() # Added this line\n",
    "    t.left(90)\n",
    "    t.forward(height)\n",
    "    if height < 0:\n",
    "        t.penup()\n",
    "        t.forward(-20)\n",
    "        t.write(\" \"+ str(height))\n",
    "        t.backward(-20)\n",
    "        t.pendown()\n",
    "    else:\n",
    "        t.write(\" \"+ str(height))\n",
    "    t.right(90)\n",
    "    t.forward(40)\n",
    "    t.right(90)\n",
    "    t.forward(height)\n",
    "    t.left(90)\n",
    "    t.end_fill() # Added this line\n",
    "    t.penup()\n",
    "    t.forward(10)\n",
    "    t.pendown()\n",
    "\n",
    "    \n",
    "xs = [48,117,-200,240,160,260,220]    \n",
    "\n",
    "for a in xs:\n",
    "    draw_bar(tess, a)\n",
    "\n",
    "wn.mainloop()\n",
    "turtle.done()"
   ]
  },
  {
   "cell_type": "markdown",
   "metadata": {},
   "source": [
    "10. Write a function find_hypot which, given the length of two sides of a right-angled\n",
    "triangle, returns the length of the hypotenuse. (Hint: x ** 0.5 will return the square\n",
    "root.)"
   ]
  },
  {
   "cell_type": "code",
   "execution_count": 59,
   "metadata": {
    "collapsed": false
   },
   "outputs": [
    {
     "data": {
      "text/plain": [
       "5.0"
      ]
     },
     "execution_count": 59,
     "metadata": {},
     "output_type": "execute_result"
    }
   ],
   "source": [
    "def find_hypot(a,b):\n",
    "    return (a**2 + b**2)**(1/2)\n",
    "\n",
    "find_hypot(3,4)"
   ]
  },
  {
   "cell_type": "markdown",
   "metadata": {},
   "source": [
    "11. Write a function is_rightangled which, given the length of three sides of a triangle,\n",
    "will determine whether the triangle is right-angled. Assume that the third argument to\n",
    "the function is always the longest side. It will return True if the triangle is right-angled,\n",
    "or False otherwise.\n",
    "Hint: Floating point arithmetic is not always exactly accurate, so it is not safe to test\n",
    "floating point numbers for equality. If a good programmer wants to know whether x is\n",
    "equal or close enough to y, they would probably code it up as:\n",
    "if abs(x-y) < 0.000001: # If x is approximately equal to y"
   ]
  },
  {
   "cell_type": "code",
   "execution_count": 61,
   "metadata": {
    "collapsed": false
   },
   "outputs": [
    {
     "name": "stdout",
     "output_type": "stream",
     "text": [
      "is right angled\n",
      "is not right angled\n"
     ]
    }
   ],
   "source": [
    "def is_rightangled(a,b,c):\n",
    "    if abs(c - (a**2 + b**2)**(1/2)) < 0.000001:\n",
    "        print(\"is right angled\")\n",
    "    else:\n",
    "        print(\"is not right angled\")\n",
    "        \n",
    "\n",
    "is_rightangled(3,4,5)\n",
    "is_rightangled(3,4,6)"
   ]
  },
  {
   "cell_type": "markdown",
   "metadata": {},
   "source": [
    "12. Extend the above program so that the sides can be given to the function in any order."
   ]
  },
  {
   "cell_type": "code",
   "execution_count": 66,
   "metadata": {
    "collapsed": false
   },
   "outputs": [
    {
     "name": "stdout",
     "output_type": "stream",
     "text": [
      "is not right angled\n"
     ]
    }
   ],
   "source": [
    "#Since one side will always be large. we first check for this condition\n",
    "\n",
    "def is_rightangled(a,b,c):\n",
    "    if a <= b <= c or b <= a <= c: # c is the hypot\n",
    "        if abs(c - (a**2 + b**2)**(1/2)) < 0.000001:\n",
    "            print(\"is right angled\")\n",
    "        else:\n",
    "            print(\"is not right angled\")\n",
    "    elif a <= c <= b or c <= a <= b: # b is the hypot\n",
    "        if abs(b - (a**2 + c**2)**(1/2)) < 0.000001:\n",
    "            print(\"is right angled\")\n",
    "        else:\n",
    "            print(\"is not right angled\")\n",
    "    elif b <= c <= a or c <= b <= a: # a is the hypot\n",
    "        if abs(a - (c**2 + b**2)**(1/2)) < 0.000001:\n",
    "            print(\"is right angled\")\n",
    "        else:\n",
    "            print(\"is not right angled\")       \n",
    "        \n",
    "\n",
    "\n",
    "is_rightangled(4,6,4)\n"
   ]
  },
  {
   "cell_type": "markdown",
   "metadata": {},
   "source": [
    "13. If you’re intrigued by why floating point arithmetic is sometimes inaccurate, on a piece\n",
    "of paper, divide 10 by 3 and write down the decimal result. You’ll find it does not\n",
    "terminate, so you’ll need an infinitely long sheet of paper. The representation of numbers\n",
    "in computer memory or on your calculator has similar problems: memory is finite, and\n",
    "some digits may have to be discarded. So small inaccuracies creep in. Try this script:\n",
    "1 import math\n",
    "2 a = math.sqrt(2.0)\n",
    "3 print(a, a*a)\n",
    "4 print(a*a == 2.0)"
   ]
  },
  {
   "cell_type": "code",
   "execution_count": 65,
   "metadata": {
    "collapsed": false
   },
   "outputs": [
    {
     "name": "stdout",
     "output_type": "stream",
     "text": [
      "1.4142135623730951 2.0000000000000004\n",
      "False\n"
     ]
    }
   ],
   "source": [
    "import math\n",
    "a = math.sqrt(2.0)\n",
    "print(a, a*a)\n",
    "print(a*a == 2.0)"
   ]
  },
  {
   "cell_type": "code",
   "execution_count": null,
   "metadata": {
    "collapsed": true
   },
   "outputs": [],
   "source": []
  }
 ],
 "metadata": {
  "kernelspec": {
   "display_name": "Python 3",
   "language": "python",
   "name": "python3"
  },
  "language_info": {
   "codemirror_mode": {
    "name": "ipython",
    "version": 3
   },
   "file_extension": ".py",
   "mimetype": "text/x-python",
   "name": "python",
   "nbconvert_exporter": "python",
   "pygments_lexer": "ipython3",
   "version": "3.5.2"
  }
 },
 "nbformat": 4,
 "nbformat_minor": 2
}

{
 "cells": [
  {
   "cell_type": "code",
   "execution_count": 1,
   "metadata": {
    "collapsed": true
   },
   "outputs": [],
   "source": [
    "celebs = [(\"Brad Pitt\", 1963), (\"Jack Nicholson\", 1937),\n",
    "                                (\"Justin Bieber\", 1994)]"
   ]
  },
  {
   "cell_type": "code",
   "execution_count": 2,
   "metadata": {
    "collapsed": false
   },
   "outputs": [
    {
     "data": {
      "text/plain": [
       "('Jack Nicholson', 1937)"
      ]
     },
     "execution_count": 2,
     "metadata": {},
     "output_type": "execute_result"
    }
   ],
   "source": [
    "celebs[1]"
   ]
  },
  {
   "cell_type": "code",
   "execution_count": 3,
   "metadata": {
    "collapsed": true
   },
   "outputs": [],
   "source": [
    "julia = (\"Julia\", \"Roberts\", 1967, \"Duplicity\", 2009, \"Actress\", \"Atlanta, Georgia\")\n"
   ]
  },
  {
   "cell_type": "code",
   "execution_count": 4,
   "metadata": {
    "collapsed": false
   },
   "outputs": [
    {
     "data": {
      "text/plain": [
       "'Roberts'"
      ]
     },
     "execution_count": 4,
     "metadata": {},
     "output_type": "execute_result"
    }
   ],
   "source": [
    "julia[1]"
   ]
  },
  {
   "cell_type": "code",
   "execution_count": 5,
   "metadata": {
    "collapsed": true
   },
   "outputs": [],
   "source": [
    "students = [\n",
    "    (\"John\", [\"CompSci\", \"Physics\"]),\n",
    "    (\"Vusi\", [\"Maths\", \"CompSci\", \"Stats\"]),\n",
    "    (\"Jess\", [\"CompSci\", \"Accounting\", \"Economics\", \"Management\"]),\n",
    "    (\"Sarah\", [\"InfSys\", \"Accounting\", \"Economics\", \"CommLaw\"]),\n",
    "    (\"Zuki\", [\"Sociology\", \"Economics\", \"Law\", \"Stats\", \"Music\"])]\n"
   ]
  },
  {
   "cell_type": "code",
   "execution_count": 6,
   "metadata": {
    "collapsed": false
   },
   "outputs": [
    {
     "data": {
      "text/plain": [
       "('Vusi', ['Maths', 'CompSci', 'Stats'])"
      ]
     },
     "execution_count": 6,
     "metadata": {},
     "output_type": "execute_result"
    }
   ],
   "source": [
    "students[1]"
   ]
  },
  {
   "cell_type": "code",
   "execution_count": 7,
   "metadata": {
    "collapsed": true
   },
   "outputs": [],
   "source": [
    "julia_more_info = ( (\"Julia\", \"Roberts\"), (8, \"October\", 1967),\n",
    "                     \"Actress\", (\"Atlanta\", \"Georgia\"),\n",
    "                     [ (\"Duplicity\", 2009),\n",
    "                       (\"Notting Hill\", 1999),\n",
    "                       (\"Pretty Woman\", 1990),\n",
    "                       (\"Erin Brockovich\", 2000),\n",
    "                       (\"Eat Pray Love\", 2010),\n",
    "                       (\"Mona Lisa Smile\", 2003),\n",
    "                       (\"Oceans Twelve\", 2004) ])"
   ]
  },
  {
   "cell_type": "code",
   "execution_count": 10,
   "metadata": {
    "collapsed": false
   },
   "outputs": [
    {
     "data": {
      "text/plain": [
       "('Duplicity', 2009)"
      ]
     },
     "execution_count": 10,
     "metadata": {},
     "output_type": "execute_result"
    }
   ],
   "source": [
    "julia_more_info[4][0]"
   ]
  },
  {
   "cell_type": "markdown",
   "metadata": {},
   "source": [
    "#1.We’ve said nothing in this chapter about whether you can pass tuples as arguments to a function. Construct a small Python example to test whether this is possible, and write up your findings."
   ]
  },
  {
   "cell_type": "code",
   "execution_count": 12,
   "metadata": {
    "collapsed": false
   },
   "outputs": [
    {
     "data": {
      "text/plain": [
       "(8, 'October', 1967)"
      ]
     },
     "execution_count": 12,
     "metadata": {},
     "output_type": "execute_result"
    }
   ],
   "source": [
    "def get_tuple_info(t, n):\n",
    "    return t[n]\n",
    "\n",
    "julia_more_info = ( (\"Julia\", \"Roberts\"), (8, \"October\", 1967),\n",
    "                     \"Actress\", (\"Atlanta\", \"Georgia\"),\n",
    "                     [ (\"Duplicity\", 2009),\n",
    "                       (\"Notting Hill\", 1999),\n",
    "                       (\"Pretty Woman\", 1990),\n",
    "                       (\"Erin Brockovich\", 2000),\n",
    "                       (\"Eat Pray Love\", 2010),\n",
    "                       (\"Mona Lisa Smile\", 2003),\n",
    "                       (\"Oceans Twelve\", 2004) ])\n",
    "\n",
    "get_tuple_info(julia_more_info,1)"
   ]
  },
  {
   "cell_type": "markdown",
   "metadata": {},
   "source": [
    "#2.Is a pair a generalization of a tuple, or is a tuple a generalization of a pair?"
   ]
  },
  {
   "cell_type": "code",
   "execution_count": null,
   "metadata": {
    "collapsed": true
   },
   "outputs": [],
   "source": [
    "# pair is a generalization of a tuple"
   ]
  },
  {
   "cell_type": "markdown",
   "metadata": {},
   "source": [
    "#3.Is a pair a kind of tuple, or is a tuple a kind of pair?"
   ]
  },
  {
   "cell_type": "code",
   "execution_count": null,
   "metadata": {
    "collapsed": true
   },
   "outputs": [],
   "source": [
    "# pair is a kind of tuple"
   ]
  }
 ],
 "metadata": {
  "kernelspec": {
   "display_name": "Python 3",
   "language": "python",
   "name": "python3"
  },
  "language_info": {
   "codemirror_mode": {
    "name": "ipython",
    "version": 3
   },
   "file_extension": ".py",
   "mimetype": "text/x-python",
   "name": "python",
   "nbconvert_exporter": "python",
   "pygments_lexer": "ipython3",
   "version": "3.6.0"
  }
 },
 "nbformat": 4,
 "nbformat_minor": 2
}
